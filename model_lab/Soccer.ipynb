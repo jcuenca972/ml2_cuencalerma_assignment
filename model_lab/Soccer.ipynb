{
 "cells": [
  {
   "cell_type": "markdown",
   "source": [
    "# CASE STUDY: MLS SOCCER MATCH PREDICTION"
   ],
   "metadata": {
    "collapsed": false
   },
   "id": "6ae6d83b0d5d0527"
  },
  {
   "cell_type": "markdown",
   "source": [
    "# STEP #1: INPUT DATA"
   ],
   "metadata": {
    "collapsed": false
   },
   "id": "56e735584dae0a0a"
  },
  {
   "cell_type": "code",
   "execution_count": 6,
   "outputs": [],
   "source": [
    "import pandas as pd\n",
    "import matplotlib.pyplot as plt\n",
    "import seaborn as sns\n",
    "%matplotlib inline\n"
   ],
   "metadata": {
    "collapsed": false,
    "ExecuteTime": {
     "end_time": "2023-10-27T21:42:31.918377300Z",
     "start_time": "2023-10-27T21:42:31.854870800Z"
    }
   },
   "id": "70ad67208d78ea8d"
  },
  {
   "cell_type": "code",
   "execution_count": 5,
   "outputs": [
    {
     "name": "stderr",
     "output_type": "stream",
     "text": [
      "C:\\Users\\josec\\AppData\\Local\\Temp\\ipykernel_3524\\3947311315.py:3: DtypeWarning: Columns (11,14,50,102,123,125,129,131,133,135,137,139,141,143,145,147,149,157,158,160,161,163,165,167,169,171,173,184,186,187,205,206) have mixed types. Specify dtype option on import or set low_memory=False.\n",
      "  data = pd.read_csv(\"matches.csv\")[data_columns]\n"
     ]
    },
    {
     "data": {
      "text/plain": "                     home                 away               date attendance  \\\n0             New England             San Jose          7/31/1996     12,871   \n1                  Dallas             Colorado          6/15/1996      9,704   \n2                Colorado          D.C. United          8/29/1996      6,368   \n3               LA Galaxy          New England           8/8/1996     10,251   \n4             New England          D.C. United          7/20/1996     18,347   \n...                   ...                  ...                ...        ...   \n7284      Chicago Fire FC  Seattle Sounders FC  Saturday, July 16     13,601   \n7285       Inter Miami CF         Charlotte FC  Saturday, July 16     12,274   \n7286  Minnesota United FC          D.C. United  Saturday, July 16     19,718   \n7287      Colorado Rapids            LA Galaxy  Saturday, July 16     17,975   \n7288            FC Dallas            Austin FC  Saturday, July 16     16,833   \n\n                        league part_of_competition  home_score  away_score  \n0                     1996 MLS      Regular Season           2           0  \n1                     1996 MLS      Regular Season           1           1  \n2                     1996 MLS      Regular Season           1           2  \n3                     1996 MLS      Regular Season           1           0  \n4                     1996 MLS      Regular Season           2           0  \n...                        ...                 ...         ...         ...  \n7284  2022 Major League Soccer      Regular Season           1           0  \n7285  2022 Major League Soccer      Regular Season           3           2  \n7286  2022 Major League Soccer      Regular Season           2           0  \n7287  2022 Major League Soccer      Regular Season           2           0  \n7288  2022 Major League Soccer      Regular Season           1           1  \n\n[7289 rows x 8 columns]",
      "text/html": "<div>\n<style scoped>\n    .dataframe tbody tr th:only-of-type {\n        vertical-align: middle;\n    }\n\n    .dataframe tbody tr th {\n        vertical-align: top;\n    }\n\n    .dataframe thead th {\n        text-align: right;\n    }\n</style>\n<table border=\"1\" class=\"dataframe\">\n  <thead>\n    <tr style=\"text-align: right;\">\n      <th></th>\n      <th>home</th>\n      <th>away</th>\n      <th>date</th>\n      <th>attendance</th>\n      <th>league</th>\n      <th>part_of_competition</th>\n      <th>home_score</th>\n      <th>away_score</th>\n    </tr>\n  </thead>\n  <tbody>\n    <tr>\n      <th>0</th>\n      <td>New England</td>\n      <td>San Jose</td>\n      <td>7/31/1996</td>\n      <td>12,871</td>\n      <td>1996 MLS</td>\n      <td>Regular Season</td>\n      <td>2</td>\n      <td>0</td>\n    </tr>\n    <tr>\n      <th>1</th>\n      <td>Dallas</td>\n      <td>Colorado</td>\n      <td>6/15/1996</td>\n      <td>9,704</td>\n      <td>1996 MLS</td>\n      <td>Regular Season</td>\n      <td>1</td>\n      <td>1</td>\n    </tr>\n    <tr>\n      <th>2</th>\n      <td>Colorado</td>\n      <td>D.C. United</td>\n      <td>8/29/1996</td>\n      <td>6,368</td>\n      <td>1996 MLS</td>\n      <td>Regular Season</td>\n      <td>1</td>\n      <td>2</td>\n    </tr>\n    <tr>\n      <th>3</th>\n      <td>LA Galaxy</td>\n      <td>New England</td>\n      <td>8/8/1996</td>\n      <td>10,251</td>\n      <td>1996 MLS</td>\n      <td>Regular Season</td>\n      <td>1</td>\n      <td>0</td>\n    </tr>\n    <tr>\n      <th>4</th>\n      <td>New England</td>\n      <td>D.C. United</td>\n      <td>7/20/1996</td>\n      <td>18,347</td>\n      <td>1996 MLS</td>\n      <td>Regular Season</td>\n      <td>2</td>\n      <td>0</td>\n    </tr>\n    <tr>\n      <th>...</th>\n      <td>...</td>\n      <td>...</td>\n      <td>...</td>\n      <td>...</td>\n      <td>...</td>\n      <td>...</td>\n      <td>...</td>\n      <td>...</td>\n    </tr>\n    <tr>\n      <th>7284</th>\n      <td>Chicago Fire FC</td>\n      <td>Seattle Sounders FC</td>\n      <td>Saturday, July 16</td>\n      <td>13,601</td>\n      <td>2022 Major League Soccer</td>\n      <td>Regular Season</td>\n      <td>1</td>\n      <td>0</td>\n    </tr>\n    <tr>\n      <th>7285</th>\n      <td>Inter Miami CF</td>\n      <td>Charlotte FC</td>\n      <td>Saturday, July 16</td>\n      <td>12,274</td>\n      <td>2022 Major League Soccer</td>\n      <td>Regular Season</td>\n      <td>3</td>\n      <td>2</td>\n    </tr>\n    <tr>\n      <th>7286</th>\n      <td>Minnesota United FC</td>\n      <td>D.C. United</td>\n      <td>Saturday, July 16</td>\n      <td>19,718</td>\n      <td>2022 Major League Soccer</td>\n      <td>Regular Season</td>\n      <td>2</td>\n      <td>0</td>\n    </tr>\n    <tr>\n      <th>7287</th>\n      <td>Colorado Rapids</td>\n      <td>LA Galaxy</td>\n      <td>Saturday, July 16</td>\n      <td>17,975</td>\n      <td>2022 Major League Soccer</td>\n      <td>Regular Season</td>\n      <td>2</td>\n      <td>0</td>\n    </tr>\n    <tr>\n      <th>7288</th>\n      <td>FC Dallas</td>\n      <td>Austin FC</td>\n      <td>Saturday, July 16</td>\n      <td>16,833</td>\n      <td>2022 Major League Soccer</td>\n      <td>Regular Season</td>\n      <td>1</td>\n      <td>1</td>\n    </tr>\n  </tbody>\n</table>\n<p>7289 rows × 8 columns</p>\n</div>"
     },
     "execution_count": 5,
     "metadata": {},
     "output_type": "execute_result"
    }
   ],
   "source": [
    "data_columns = [\"home\", \"away\", \"date\", \"attendance\", \"league\", \"part_of_competition\",\n",
    "                \"home_score\", \"away_score\"]\n",
    "data = pd.read_csv(\"matches.csv\")[data_columns]\n",
    "data"
   ],
   "metadata": {
    "collapsed": false,
    "ExecuteTime": {
     "end_time": "2023-10-27T21:41:25.343961800Z",
     "start_time": "2023-10-27T21:41:25.104425300Z"
    }
   },
   "id": "1d53c5d452164aa4"
  },
  {
   "cell_type": "markdown",
   "source": [
    "# Step 2 Exploring dataset"
   ],
   "metadata": {
    "collapsed": false
   },
   "id": "affc534ea0e85a57"
  },
  {
   "cell_type": "code",
   "execution_count": 21,
   "outputs": [
    {
     "data": {
      "text/plain": "array(['1996 MLS', '1997 MLS', '1998 MLS', '1999 MLS', '2000 MLS',\n       '2001 USA Major League Soccer', '2002 USA Major League Soccer',\n       '2003 USA Major League Soccer', '2004 USA Major League Soccer',\n       '2005 USA Major League Soccer', '2006 USA Major League Soccer',\n       '2007 USA Major League Soccer', '2008 USA Major League Soccer',\n       '2009 USA Major League Soccer', '2010 USA Major League Soccer',\n       '2011 USA Major League Soccer', '2012 USA Major League Soccer',\n       '2013 USA Major League Soccer', '2014 USA Major League Soccer',\n       '2015 USA Major League Soccer', '2016 USA Major League Soccer',\n       '2017 Major League Soccer', '2018 Major League Soccer',\n       '2019 Major League Soccer', '2020 Major League Soccer',\n       '2021 Major League Soccer', '2022 Major League Soccer'],\n      dtype=object)"
     },
     "execution_count": 21,
     "metadata": {},
     "output_type": "execute_result"
    }
   ],
   "source": [
    "# Count the occurrences of each category\n",
    "value_league = data.sort_values(by='league', ascending=True)['league'].unique()\n",
    "value_league"
   ],
   "metadata": {
    "collapsed": false,
    "ExecuteTime": {
     "end_time": "2023-10-27T21:57:43.516843600Z",
     "start_time": "2023-10-27T21:57:43.469456800Z"
    }
   },
   "id": "8c461734cdfb6017"
  },
  {
   "cell_type": "code",
   "execution_count": 22,
   "outputs": [
    {
     "data": {
      "text/plain": "array([' 2007 Playoffs', ' Conference Finals', ' Conference Semi-finals',\n       ' Eastern Conference Finals',\n       ' Eastern Conference Playoffs - Final',\n       ' Eastern Conference Playoffs - Finals',\n       ' Eastern Conference Playoffs - First Round',\n       ' Eastern Conference Playoffs - Play-In Round',\n       ' Eastern Conference Playoffs - Semifinals',\n       ' Eastern Conference Semi-finals', ' Final',\n       ' Finals - Eastern Conf', ' Finals - Western Conf', ' Knockout',\n       ' Knockout - Eastern Conf', ' Knockout - Western Conf', ' MLS Cup',\n       ' MLS is Back - Final', ' MLS is Back - Quarterfinals',\n       ' MLS is Back - Round of 16', ' MLS is Back - Semifinals',\n       ' Preseason', ' Quarterfinals', ' Regular Season',\n       ' Regular Season 2001', ' Regular Season 2002',\n       ' Regular Season 2003', ' Regular Season 2004',\n       ' Regular Season 2005', ' Regular Season 2006',\n       ' Regular Season 2007', ' Regular Season 2008',\n       ' Regular Season 2009', ' Regular Season 2010',\n       ' Regular Season 2011', ' Regular Season 2012',\n       ' Regular Season 2013', ' Regular Season 2014',\n       ' Regular Season 2015', ' Regular Season 2016',\n       ' Semi-finals - Eastern Conf', ' Semi-finals - Western Conf',\n       ' Semifinals', ' Semifinals - Eastern Conf',\n       ' Semifinals - Western Conf', ' Western Conference Finals',\n       ' Western Conference Playoffs - Final',\n       ' Western Conference Playoffs - Finals',\n       ' Western Conference Playoffs - First Round',\n       ' Western Conference Playoffs - Semifinals',\n       ' Western Conference Semi-finals', 'Conference Finals',\n       'Conference Semifinals', \"MLS Cup '96\", \"MLS Cup '97\",\n       \"MLS Cup '98\", \"MLS Cup '99\", 'MLS Cup 2000', 'Quarter-finals',\n       'Regular Season', 'Semi-finals'], dtype=object)"
     },
     "execution_count": 22,
     "metadata": {},
     "output_type": "execute_result"
    }
   ],
   "source": [
    "value_competition = data.sort_values(by='part_of_competition', ascending=True)['part_of_competition'].unique()\n",
    "value_competition"
   ],
   "metadata": {
    "collapsed": false,
    "ExecuteTime": {
     "end_time": "2023-10-27T21:58:19.638395500Z",
     "start_time": "2023-10-27T21:58:19.589906700Z"
    }
   },
   "id": "3cf857c7c7c54f44"
  },
  {
   "cell_type": "code",
   "execution_count": 23,
   "outputs": [
    {
     "data": {
      "text/plain": "array(['Atlanta United FC', 'Austin FC', 'CF Montréal', 'Charlotte FC',\n       'Chicago', 'Chicago Fire FC', 'Chivas USA', 'Colorado',\n       'Colorado Rapids', 'Columbus', 'Columbus Crew', 'Columbus Crew SC',\n       'D.C. United', 'DC United', 'Dallas', 'East All-Stars',\n       'FC Cincinnati', 'FC Dallas', 'Houston Dynamo',\n       'Houston Dynamo FC', 'Inter Miami CF', 'KC Wiz', 'KC Wizards',\n       'LA Galaxy', 'LAFC', 'MetroStars', 'Miami', 'Minnesota United FC',\n       'Montreal Impact', 'Nashville SC', 'New England',\n       'New England Revolution', 'New York City FC', 'New York Red Bulls',\n       'Orlando City SC', 'Philadelphia Union', 'Portland Timbers',\n       'Real Salt Lake', 'San Jose', 'San Jose Earthquakes',\n       'Seattle Sounders FC', 'Sporting Kansas City', 'Tampa Bay',\n       'Toronto FC', 'Vancouver Whitecaps'], dtype=object)"
     },
     "execution_count": 23,
     "metadata": {},
     "output_type": "execute_result"
    }
   ],
   "source": [
    "value_counts = data.sort_values(by='home', ascending=True)['home'].unique()\n",
    "value_counts"
   ],
   "metadata": {
    "collapsed": false,
    "ExecuteTime": {
     "end_time": "2023-10-27T21:59:08.157865400Z",
     "start_time": "2023-10-27T21:59:08.142567800Z"
    }
   },
   "id": "487e4c2c8f21bc68"
  },
  {
   "cell_type": "code",
   "execution_count": 24,
   "outputs": [
    {
     "data": {
      "text/plain": "array(['Atlanta United FC', 'Austin FC', 'CF Montréal', 'Charlotte FC',\n       'Chicago', 'Chicago Fire FC', 'Chivas USA', 'Colorado',\n       'Colorado Rapids', 'Columbus', 'Columbus Crew', 'Columbus Crew SC',\n       'D.C. United', 'DC United', 'Dallas', 'FC Cincinnati', 'FC Dallas',\n       'Houston Dynamo', 'Houston Dynamo FC', 'Inter Miami CF', 'KC Wiz',\n       'KC Wizards', 'LA Galaxy', 'LAFC', 'MetroStars', 'Miami',\n       'Minnesota United FC', 'Montreal Impact', 'Nashville SC',\n       'New England', 'New England Revolution', 'New York City FC',\n       'New York Red Bulls', 'Orlando City SC', 'Philadelphia Union',\n       'Portland Timbers', 'Real Salt Lake', 'San Jose',\n       'San Jose Earthquakes', 'Seattle Sounders FC',\n       'Sporting Kansas City', 'Tampa Bay', 'Toronto FC',\n       'Vancouver Whitecaps', 'West All-Stars'], dtype=object)"
     },
     "execution_count": 24,
     "metadata": {},
     "output_type": "execute_result"
    }
   ],
   "source": [
    "value_away = data.sort_values(by='away', ascending=True)['away'].unique()\n",
    "value_away"
   ],
   "metadata": {
    "collapsed": false,
    "ExecuteTime": {
     "end_time": "2023-10-27T21:59:39.440548100Z",
     "start_time": "2023-10-27T21:59:39.424458800Z"
    }
   },
   "id": "64a74af702c4a7a3"
  }
 ],
 "metadata": {
  "kernelspec": {
   "display_name": "Python 3",
   "language": "python",
   "name": "python3"
  },
  "language_info": {
   "codemirror_mode": {
    "name": "ipython",
    "version": 2
   },
   "file_extension": ".py",
   "mimetype": "text/x-python",
   "name": "python",
   "nbconvert_exporter": "python",
   "pygments_lexer": "ipython2",
   "version": "2.7.6"
  }
 },
 "nbformat": 4,
 "nbformat_minor": 5
}
