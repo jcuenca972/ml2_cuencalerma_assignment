{
 "cells": [
  {
   "cell_type": "markdown",
   "source": [
    "# CASE STUDY: MLS SOCCER MATCH PREDICTION"
   ],
   "metadata": {
    "collapsed": false
   },
   "id": "6ae6d83b0d5d0527"
  },
  {
   "cell_type": "markdown",
   "source": [
    "# STEP #1: INPUT DATA"
   ],
   "metadata": {
    "collapsed": false
   },
   "id": "56e735584dae0a0a"
  },
  {
   "cell_type": "code",
   "execution_count": 125,
   "outputs": [],
   "source": [
    "import pandas as pd\n",
    "import matplotlib.pyplot as plt\n",
    "import seaborn as sns\n",
    "%matplotlib inline\n"
   ],
   "metadata": {
    "collapsed": false,
    "ExecuteTime": {
     "end_time": "2023-10-28T13:24:34.518333Z",
     "start_time": "2023-10-28T13:24:34.502231500Z"
    }
   },
   "id": "70ad67208d78ea8d"
  },
  {
   "cell_type": "code",
   "execution_count": 126,
   "outputs": [
    {
     "name": "stderr",
     "output_type": "stream",
     "text": [
      "C:\\Users\\josec\\AppData\\Local\\Temp\\ipykernel_9228\\2825432723.py:3: DtypeWarning: Columns (11,14,50,102,123,125,129,131,133,135,137,139,141,143,145,147,149,157,158,160,161,163,165,167,169,171,173,184,186,187,205,206) have mixed types. Specify dtype option on import or set low_memory=False.\n",
      "  data = pd.read_csv(\"matches.csv\")[data_columns]\n"
     ]
    },
    {
     "data": {
      "text/plain": "                     home                 away               date attendance  \\\n0             New England             San Jose          7/31/1996     12,871   \n1                  Dallas             Colorado          6/15/1996      9,704   \n2                Colorado          D.C. United          8/29/1996      6,368   \n3               LA Galaxy          New England           8/8/1996     10,251   \n4             New England          D.C. United          7/20/1996     18,347   \n...                   ...                  ...                ...        ...   \n7284      Chicago Fire FC  Seattle Sounders FC  Saturday, July 16     13,601   \n7285       Inter Miami CF         Charlotte FC  Saturday, July 16     12,274   \n7286  Minnesota United FC          D.C. United  Saturday, July 16     19,718   \n7287      Colorado Rapids            LA Galaxy  Saturday, July 16     17,975   \n7288            FC Dallas            Austin FC  Saturday, July 16     16,833   \n\n     part_of_competition  home_score  away_score  \n0         Regular Season           2           0  \n1         Regular Season           1           1  \n2         Regular Season           1           2  \n3         Regular Season           1           0  \n4         Regular Season           2           0  \n...                  ...         ...         ...  \n7284      Regular Season           1           0  \n7285      Regular Season           3           2  \n7286      Regular Season           2           0  \n7287      Regular Season           2           0  \n7288      Regular Season           1           1  \n\n[7289 rows x 7 columns]",
      "text/html": "<div>\n<style scoped>\n    .dataframe tbody tr th:only-of-type {\n        vertical-align: middle;\n    }\n\n    .dataframe tbody tr th {\n        vertical-align: top;\n    }\n\n    .dataframe thead th {\n        text-align: right;\n    }\n</style>\n<table border=\"1\" class=\"dataframe\">\n  <thead>\n    <tr style=\"text-align: right;\">\n      <th></th>\n      <th>home</th>\n      <th>away</th>\n      <th>date</th>\n      <th>attendance</th>\n      <th>part_of_competition</th>\n      <th>home_score</th>\n      <th>away_score</th>\n    </tr>\n  </thead>\n  <tbody>\n    <tr>\n      <th>0</th>\n      <td>New England</td>\n      <td>San Jose</td>\n      <td>7/31/1996</td>\n      <td>12,871</td>\n      <td>Regular Season</td>\n      <td>2</td>\n      <td>0</td>\n    </tr>\n    <tr>\n      <th>1</th>\n      <td>Dallas</td>\n      <td>Colorado</td>\n      <td>6/15/1996</td>\n      <td>9,704</td>\n      <td>Regular Season</td>\n      <td>1</td>\n      <td>1</td>\n    </tr>\n    <tr>\n      <th>2</th>\n      <td>Colorado</td>\n      <td>D.C. United</td>\n      <td>8/29/1996</td>\n      <td>6,368</td>\n      <td>Regular Season</td>\n      <td>1</td>\n      <td>2</td>\n    </tr>\n    <tr>\n      <th>3</th>\n      <td>LA Galaxy</td>\n      <td>New England</td>\n      <td>8/8/1996</td>\n      <td>10,251</td>\n      <td>Regular Season</td>\n      <td>1</td>\n      <td>0</td>\n    </tr>\n    <tr>\n      <th>4</th>\n      <td>New England</td>\n      <td>D.C. United</td>\n      <td>7/20/1996</td>\n      <td>18,347</td>\n      <td>Regular Season</td>\n      <td>2</td>\n      <td>0</td>\n    </tr>\n    <tr>\n      <th>...</th>\n      <td>...</td>\n      <td>...</td>\n      <td>...</td>\n      <td>...</td>\n      <td>...</td>\n      <td>...</td>\n      <td>...</td>\n    </tr>\n    <tr>\n      <th>7284</th>\n      <td>Chicago Fire FC</td>\n      <td>Seattle Sounders FC</td>\n      <td>Saturday, July 16</td>\n      <td>13,601</td>\n      <td>Regular Season</td>\n      <td>1</td>\n      <td>0</td>\n    </tr>\n    <tr>\n      <th>7285</th>\n      <td>Inter Miami CF</td>\n      <td>Charlotte FC</td>\n      <td>Saturday, July 16</td>\n      <td>12,274</td>\n      <td>Regular Season</td>\n      <td>3</td>\n      <td>2</td>\n    </tr>\n    <tr>\n      <th>7286</th>\n      <td>Minnesota United FC</td>\n      <td>D.C. United</td>\n      <td>Saturday, July 16</td>\n      <td>19,718</td>\n      <td>Regular Season</td>\n      <td>2</td>\n      <td>0</td>\n    </tr>\n    <tr>\n      <th>7287</th>\n      <td>Colorado Rapids</td>\n      <td>LA Galaxy</td>\n      <td>Saturday, July 16</td>\n      <td>17,975</td>\n      <td>Regular Season</td>\n      <td>2</td>\n      <td>0</td>\n    </tr>\n    <tr>\n      <th>7288</th>\n      <td>FC Dallas</td>\n      <td>Austin FC</td>\n      <td>Saturday, July 16</td>\n      <td>16,833</td>\n      <td>Regular Season</td>\n      <td>1</td>\n      <td>1</td>\n    </tr>\n  </tbody>\n</table>\n<p>7289 rows × 7 columns</p>\n</div>"
     },
     "execution_count": 126,
     "metadata": {},
     "output_type": "execute_result"
    }
   ],
   "source": [
    "data_columns = [\"home\", \"away\", \"date\", \"attendance\", \"part_of_competition\",\n",
    "                \"home_score\", \"away_score\"]\n",
    "data = pd.read_csv(\"matches.csv\")[data_columns]\n",
    "data"
   ],
   "metadata": {
    "collapsed": false,
    "ExecuteTime": {
     "end_time": "2023-10-28T13:24:36.882573500Z",
     "start_time": "2023-10-28T13:24:36.685570800Z"
    }
   },
   "id": "1d53c5d452164aa4"
  },
  {
   "cell_type": "markdown",
   "source": [
    "# Step 2 Exploring dataset"
   ],
   "metadata": {
    "collapsed": false
   },
   "id": "affc534ea0e85a57"
  },
  {
   "cell_type": "code",
   "execution_count": 127,
   "outputs": [
    {
     "data": {
      "text/plain": "home                      0\naway                      0\ndate                      0\nattendance             2412\npart_of_competition       0\nhome_score                0\naway_score                0\ndtype: int64"
     },
     "execution_count": 127,
     "metadata": {},
     "output_type": "execute_result"
    }
   ],
   "source": [
    "data.isnull().sum()"
   ],
   "metadata": {
    "collapsed": false,
    "ExecuteTime": {
     "end_time": "2023-10-28T13:24:39.459234400Z",
     "start_time": "2023-10-28T13:24:39.443150100Z"
    }
   },
   "id": "ee3e412a7ffe260c"
  },
  {
   "cell_type": "code",
   "execution_count": 128,
   "outputs": [
    {
     "name": "stdout",
     "output_type": "stream",
     "text": [
      "Dates with not regular format:  (6316, 7)\n"
     ]
    }
   ],
   "source": [
    "print(\"Dates with not regular format: \", data[~data['date'].str.match(r\"[0-9]+/[0-9]+/[0-9]+\")].shape)"
   ],
   "metadata": {
    "collapsed": false,
    "ExecuteTime": {
     "end_time": "2023-10-28T13:24:41.207728900Z",
     "start_time": "2023-10-28T13:24:41.201821Z"
    }
   },
   "id": "870f5ae39024063b"
  },
  {
   "cell_type": "code",
   "execution_count": 129,
   "outputs": [
    {
     "data": {
      "text/plain": "array([' 2007 Playoffs', ' Conference Finals', ' Conference Semi-finals',\n       ' Eastern Conference Finals',\n       ' Eastern Conference Playoffs - Final',\n       ' Eastern Conference Playoffs - Finals',\n       ' Eastern Conference Playoffs - First Round',\n       ' Eastern Conference Playoffs - Play-In Round',\n       ' Eastern Conference Playoffs - Semifinals',\n       ' Eastern Conference Semi-finals', ' Final',\n       ' Finals - Eastern Conf', ' Finals - Western Conf', ' Knockout',\n       ' Knockout - Eastern Conf', ' Knockout - Western Conf', ' MLS Cup',\n       ' MLS is Back - Final', ' MLS is Back - Quarterfinals',\n       ' MLS is Back - Round of 16', ' MLS is Back - Semifinals',\n       ' Preseason', ' Quarterfinals', ' Regular Season',\n       ' Regular Season 2001', ' Regular Season 2002',\n       ' Regular Season 2003', ' Regular Season 2004',\n       ' Regular Season 2005', ' Regular Season 2006',\n       ' Regular Season 2007', ' Regular Season 2008',\n       ' Regular Season 2009', ' Regular Season 2010',\n       ' Regular Season 2011', ' Regular Season 2012',\n       ' Regular Season 2013', ' Regular Season 2014',\n       ' Regular Season 2015', ' Regular Season 2016',\n       ' Semi-finals - Eastern Conf', ' Semi-finals - Western Conf',\n       ' Semifinals', ' Semifinals - Eastern Conf',\n       ' Semifinals - Western Conf', ' Western Conference Finals',\n       ' Western Conference Playoffs - Final',\n       ' Western Conference Playoffs - Finals',\n       ' Western Conference Playoffs - First Round',\n       ' Western Conference Playoffs - Semifinals',\n       ' Western Conference Semi-finals', 'Conference Finals',\n       'Conference Semifinals', \"MLS Cup '96\", \"MLS Cup '97\",\n       \"MLS Cup '98\", \"MLS Cup '99\", 'MLS Cup 2000', 'Quarter-finals',\n       'Regular Season', 'Semi-finals'], dtype=object)"
     },
     "execution_count": 129,
     "metadata": {},
     "output_type": "execute_result"
    }
   ],
   "source": [
    "value_competition = data.sort_values(by='part_of_competition', ascending=True)['part_of_competition'].unique()\n",
    "value_competition"
   ],
   "metadata": {
    "collapsed": false,
    "ExecuteTime": {
     "end_time": "2023-10-28T13:24:42.513523800Z",
     "start_time": "2023-10-28T13:24:42.504111900Z"
    }
   },
   "id": "3cf857c7c7c54f44"
  },
  {
   "cell_type": "code",
   "execution_count": 141,
   "outputs": [
    {
     "data": {
      "text/plain": "array(['Atlanta United', 'Austin FC', 'CF Montréal', 'Charlotte FC',\n       'Chicago Fire FC', 'Chivas USA', 'Colorado Rapids',\n       'Columbus Crew', 'D.C. United', 'FC Cincinnati', 'FC Dallas',\n       'Houston Dynamo FC', 'Inter Miami CF', 'KC Wiz', 'KC Wizards',\n       'LA Galaxy', 'LAFC', 'MetroStars', 'Miami', 'Minnesota United FC',\n       'Nashville SC', 'New England Revolution', 'New York City FC',\n       'New York Red Bulls', 'Orlando City SC', 'Philadelphia Union',\n       'Portland Timbers', 'Real Salt Lake', 'San Jose Earthquakes',\n       'Seattle Sounders FC', 'Sporting Kansas City', 'Tampa Bay',\n       'Toronto FC', 'Vancouver Whitecaps'], dtype=object)"
     },
     "execution_count": 141,
     "metadata": {},
     "output_type": "execute_result"
    }
   ],
   "source": [
    "value_counts = data.sort_values(by='home', ascending=True)['home'].unique()\n",
    "value_counts"
   ],
   "metadata": {
    "collapsed": false,
    "ExecuteTime": {
     "end_time": "2023-10-28T13:25:29.220390100Z",
     "start_time": "2023-10-28T13:25:29.204423Z"
    }
   },
   "id": "487e4c2c8f21bc68"
  },
  {
   "cell_type": "code",
   "execution_count": 142,
   "outputs": [
    {
     "data": {
      "text/plain": "array(['Atlanta United', 'Austin FC', 'CF Montréal', 'Charlotte FC',\n       'Chicago Fire FC', 'Chivas USA', 'Colorado Rapids',\n       'Columbus Crew', 'D.C. United', 'FC Cincinnati', 'FC Dallas',\n       'Houston Dynamo FC', 'Inter Miami CF', 'KC Wiz', 'KC Wizards',\n       'LA Galaxy', 'LAFC', 'MetroStars', 'Miami', 'Minnesota United FC',\n       'Nashville SC', 'New England Revolution', 'New York City FC',\n       'New York Red Bulls', 'Orlando City SC', 'Philadelphia Union',\n       'Portland Timbers', 'Real Salt Lake', 'San Jose Earthquakes',\n       'Seattle Sounders FC', 'Sporting Kansas City', 'Tampa Bay',\n       'Toronto FC', 'Vancouver Whitecaps'], dtype=object)"
     },
     "execution_count": 142,
     "metadata": {},
     "output_type": "execute_result"
    }
   ],
   "source": [
    "value_away = data.sort_values(by='away', ascending=True)['away'].unique()\n",
    "value_away"
   ],
   "metadata": {
    "collapsed": false,
    "ExecuteTime": {
     "end_time": "2023-10-28T13:25:34.514507900Z",
     "start_time": "2023-10-28T13:25:34.502632200Z"
    }
   },
   "id": "64a74af702c4a7a3"
  },
  {
   "cell_type": "markdown",
   "source": [
    "# Step 3 Data Cleaning"
   ],
   "metadata": {
    "collapsed": false
   },
   "id": "a847c5651e7f2f80"
  },
  {
   "cell_type": "code",
   "execution_count": 132,
   "outputs": [
    {
     "data": {
      "text/plain": "home                           object\naway                           object\ndate                   datetime64[ns]\nattendance                     object\npart_of_competition            object\nhome_score                      int64\naway_score                      int64\ndtype: object"
     },
     "execution_count": 132,
     "metadata": {},
     "output_type": "execute_result"
    }
   ],
   "source": [
    "# Creating datetime column\n",
    "date_regex = r\"[0-9]+/[0-9]+/[0-9]+\"\n",
    "date_mask = data['date'].str.match(date_regex)\n",
    "\n",
    "data.loc[~date_mask, \"date\"] = pd.to_datetime(data.loc[~date_mask, \"date\"], format='%A, %B %d', errors='coerce').dt.strftime('%m/%d/%Y')\n",
    "data[\"date\"] = pd.to_datetime(data[\"date\"])\n",
    "\n",
    "data.dtypes"
   ],
   "metadata": {
    "collapsed": false,
    "ExecuteTime": {
     "end_time": "2023-10-28T13:24:52.005711300Z",
     "start_time": "2023-10-28T13:24:51.948751500Z"
    }
   },
   "id": "56c116d5bbffc8c1"
  },
  {
   "cell_type": "code",
   "execution_count": 133,
   "outputs": [
    {
     "data": {
      "text/plain": "                     home                 away attendance part_of_competition  \\\n0             New England             San Jose     12,871      Regular Season   \n1                  Dallas             Colorado      9,704      Regular Season   \n2                Colorado          D.C. United      6,368      Regular Season   \n3               LA Galaxy          New England     10,251      Regular Season   \n4             New England          D.C. United     18,347      Regular Season   \n...                   ...                  ...        ...                 ...   \n7284      Chicago Fire FC  Seattle Sounders FC     13,601      Regular Season   \n7285       Inter Miami CF         Charlotte FC     12,274      Regular Season   \n7286  Minnesota United FC          D.C. United     19,718      Regular Season   \n7287      Colorado Rapids            LA Galaxy     17,975      Regular Season   \n7288            FC Dallas            Austin FC     16,833      Regular Season   \n\n      home_score  away_score  month  \n0              2           0    7.0  \n1              1           1    6.0  \n2              1           2    8.0  \n3              1           0    8.0  \n4              2           0    7.0  \n...          ...         ...    ...  \n7284           1           0    7.0  \n7285           3           2    7.0  \n7286           2           0    7.0  \n7287           2           0    7.0  \n7288           1           1    7.0  \n\n[7289 rows x 7 columns]",
      "text/html": "<div>\n<style scoped>\n    .dataframe tbody tr th:only-of-type {\n        vertical-align: middle;\n    }\n\n    .dataframe tbody tr th {\n        vertical-align: top;\n    }\n\n    .dataframe thead th {\n        text-align: right;\n    }\n</style>\n<table border=\"1\" class=\"dataframe\">\n  <thead>\n    <tr style=\"text-align: right;\">\n      <th></th>\n      <th>home</th>\n      <th>away</th>\n      <th>attendance</th>\n      <th>part_of_competition</th>\n      <th>home_score</th>\n      <th>away_score</th>\n      <th>month</th>\n    </tr>\n  </thead>\n  <tbody>\n    <tr>\n      <th>0</th>\n      <td>New England</td>\n      <td>San Jose</td>\n      <td>12,871</td>\n      <td>Regular Season</td>\n      <td>2</td>\n      <td>0</td>\n      <td>7.0</td>\n    </tr>\n    <tr>\n      <th>1</th>\n      <td>Dallas</td>\n      <td>Colorado</td>\n      <td>9,704</td>\n      <td>Regular Season</td>\n      <td>1</td>\n      <td>1</td>\n      <td>6.0</td>\n    </tr>\n    <tr>\n      <th>2</th>\n      <td>Colorado</td>\n      <td>D.C. United</td>\n      <td>6,368</td>\n      <td>Regular Season</td>\n      <td>1</td>\n      <td>2</td>\n      <td>8.0</td>\n    </tr>\n    <tr>\n      <th>3</th>\n      <td>LA Galaxy</td>\n      <td>New England</td>\n      <td>10,251</td>\n      <td>Regular Season</td>\n      <td>1</td>\n      <td>0</td>\n      <td>8.0</td>\n    </tr>\n    <tr>\n      <th>4</th>\n      <td>New England</td>\n      <td>D.C. United</td>\n      <td>18,347</td>\n      <td>Regular Season</td>\n      <td>2</td>\n      <td>0</td>\n      <td>7.0</td>\n    </tr>\n    <tr>\n      <th>...</th>\n      <td>...</td>\n      <td>...</td>\n      <td>...</td>\n      <td>...</td>\n      <td>...</td>\n      <td>...</td>\n      <td>...</td>\n    </tr>\n    <tr>\n      <th>7284</th>\n      <td>Chicago Fire FC</td>\n      <td>Seattle Sounders FC</td>\n      <td>13,601</td>\n      <td>Regular Season</td>\n      <td>1</td>\n      <td>0</td>\n      <td>7.0</td>\n    </tr>\n    <tr>\n      <th>7285</th>\n      <td>Inter Miami CF</td>\n      <td>Charlotte FC</td>\n      <td>12,274</td>\n      <td>Regular Season</td>\n      <td>3</td>\n      <td>2</td>\n      <td>7.0</td>\n    </tr>\n    <tr>\n      <th>7286</th>\n      <td>Minnesota United FC</td>\n      <td>D.C. United</td>\n      <td>19,718</td>\n      <td>Regular Season</td>\n      <td>2</td>\n      <td>0</td>\n      <td>7.0</td>\n    </tr>\n    <tr>\n      <th>7287</th>\n      <td>Colorado Rapids</td>\n      <td>LA Galaxy</td>\n      <td>17,975</td>\n      <td>Regular Season</td>\n      <td>2</td>\n      <td>0</td>\n      <td>7.0</td>\n    </tr>\n    <tr>\n      <th>7288</th>\n      <td>FC Dallas</td>\n      <td>Austin FC</td>\n      <td>16,833</td>\n      <td>Regular Season</td>\n      <td>1</td>\n      <td>1</td>\n      <td>7.0</td>\n    </tr>\n  </tbody>\n</table>\n<p>7289 rows × 7 columns</p>\n</div>"
     },
     "execution_count": 133,
     "metadata": {},
     "output_type": "execute_result"
    }
   ],
   "source": [
    "# Extract month\n",
    "data['month'] = data['date'].dt.month\n",
    "data = data.drop(columns=[\"date\"], axis = 1 )\n",
    "data"
   ],
   "metadata": {
    "collapsed": false,
    "ExecuteTime": {
     "end_time": "2023-10-28T13:24:54.671532700Z",
     "start_time": "2023-10-28T13:24:54.655423700Z"
    }
   },
   "id": "e5f7f135c508af86"
  },
  {
   "cell_type": "code",
   "execution_count": 134,
   "outputs": [
    {
     "name": "stderr",
     "output_type": "stream",
     "text": [
      "C:\\Users\\josec\\Documents\\ml2_knn_iris\\venv\\Lib\\site-packages\\numpy\\lib\\nanfunctions.py:1215: RuntimeWarning: Mean of empty slice\n",
      "  return np.nanmean(a, axis, out=out, keepdims=keepdims)\n",
      "C:\\Users\\josec\\Documents\\ml2_knn_iris\\venv\\Lib\\site-packages\\numpy\\lib\\nanfunctions.py:1215: RuntimeWarning: Mean of empty slice\n",
      "  return np.nanmean(a, axis, out=out, keepdims=keepdims)\n",
      "C:\\Users\\josec\\Documents\\ml2_knn_iris\\venv\\Lib\\site-packages\\numpy\\lib\\nanfunctions.py:1215: RuntimeWarning: Mean of empty slice\n",
      "  return np.nanmean(a, axis, out=out, keepdims=keepdims)\n",
      "C:\\Users\\josec\\Documents\\ml2_knn_iris\\venv\\Lib\\site-packages\\numpy\\lib\\nanfunctions.py:1215: RuntimeWarning: Mean of empty slice\n",
      "  return np.nanmean(a, axis, out=out, keepdims=keepdims)\n",
      "C:\\Users\\josec\\Documents\\ml2_knn_iris\\venv\\Lib\\site-packages\\numpy\\lib\\nanfunctions.py:1215: RuntimeWarning: Mean of empty slice\n",
      "  return np.nanmean(a, axis, out=out, keepdims=keepdims)\n",
      "C:\\Users\\josec\\Documents\\ml2_knn_iris\\venv\\Lib\\site-packages\\numpy\\lib\\nanfunctions.py:1215: RuntimeWarning: Mean of empty slice\n",
      "  return np.nanmean(a, axis, out=out, keepdims=keepdims)\n",
      "C:\\Users\\josec\\Documents\\ml2_knn_iris\\venv\\Lib\\site-packages\\numpy\\lib\\nanfunctions.py:1215: RuntimeWarning: Mean of empty slice\n",
      "  return np.nanmean(a, axis, out=out, keepdims=keepdims)\n",
      "C:\\Users\\josec\\Documents\\ml2_knn_iris\\venv\\Lib\\site-packages\\numpy\\lib\\nanfunctions.py:1215: RuntimeWarning: Mean of empty slice\n",
      "  return np.nanmean(a, axis, out=out, keepdims=keepdims)\n",
      "C:\\Users\\josec\\Documents\\ml2_knn_iris\\venv\\Lib\\site-packages\\numpy\\lib\\nanfunctions.py:1215: RuntimeWarning: Mean of empty slice\n",
      "  return np.nanmean(a, axis, out=out, keepdims=keepdims)\n",
      "C:\\Users\\josec\\Documents\\ml2_knn_iris\\venv\\Lib\\site-packages\\numpy\\lib\\nanfunctions.py:1215: RuntimeWarning: Mean of empty slice\n",
      "  return np.nanmean(a, axis, out=out, keepdims=keepdims)\n",
      "C:\\Users\\josec\\Documents\\ml2_knn_iris\\venv\\Lib\\site-packages\\numpy\\lib\\nanfunctions.py:1215: RuntimeWarning: Mean of empty slice\n",
      "  return np.nanmean(a, axis, out=out, keepdims=keepdims)\n",
      "C:\\Users\\josec\\Documents\\ml2_knn_iris\\venv\\Lib\\site-packages\\numpy\\lib\\nanfunctions.py:1215: RuntimeWarning: Mean of empty slice\n",
      "  return np.nanmean(a, axis, out=out, keepdims=keepdims)\n",
      "C:\\Users\\josec\\Documents\\ml2_knn_iris\\venv\\Lib\\site-packages\\numpy\\lib\\nanfunctions.py:1215: RuntimeWarning: Mean of empty slice\n",
      "  return np.nanmean(a, axis, out=out, keepdims=keepdims)\n",
      "C:\\Users\\josec\\Documents\\ml2_knn_iris\\venv\\Lib\\site-packages\\numpy\\lib\\nanfunctions.py:1215: RuntimeWarning: Mean of empty slice\n",
      "  return np.nanmean(a, axis, out=out, keepdims=keepdims)\n",
      "C:\\Users\\josec\\Documents\\ml2_knn_iris\\venv\\Lib\\site-packages\\numpy\\lib\\nanfunctions.py:1215: RuntimeWarning: Mean of empty slice\n",
      "  return np.nanmean(a, axis, out=out, keepdims=keepdims)\n",
      "C:\\Users\\josec\\Documents\\ml2_knn_iris\\venv\\Lib\\site-packages\\numpy\\lib\\nanfunctions.py:1215: RuntimeWarning: Mean of empty slice\n",
      "  return np.nanmean(a, axis, out=out, keepdims=keepdims)\n",
      "C:\\Users\\josec\\Documents\\ml2_knn_iris\\venv\\Lib\\site-packages\\numpy\\lib\\nanfunctions.py:1215: RuntimeWarning: Mean of empty slice\n",
      "  return np.nanmean(a, axis, out=out, keepdims=keepdims)\n",
      "C:\\Users\\josec\\Documents\\ml2_knn_iris\\venv\\Lib\\site-packages\\numpy\\lib\\nanfunctions.py:1215: RuntimeWarning: Mean of empty slice\n",
      "  return np.nanmean(a, axis, out=out, keepdims=keepdims)\n",
      "C:\\Users\\josec\\Documents\\ml2_knn_iris\\venv\\Lib\\site-packages\\numpy\\lib\\nanfunctions.py:1215: RuntimeWarning: Mean of empty slice\n",
      "  return np.nanmean(a, axis, out=out, keepdims=keepdims)\n",
      "C:\\Users\\josec\\Documents\\ml2_knn_iris\\venv\\Lib\\site-packages\\numpy\\lib\\nanfunctions.py:1215: RuntimeWarning: Mean of empty slice\n",
      "  return np.nanmean(a, axis, out=out, keepdims=keepdims)\n",
      "C:\\Users\\josec\\Documents\\ml2_knn_iris\\venv\\Lib\\site-packages\\numpy\\lib\\nanfunctions.py:1215: RuntimeWarning: Mean of empty slice\n",
      "  return np.nanmean(a, axis, out=out, keepdims=keepdims)\n",
      "C:\\Users\\josec\\Documents\\ml2_knn_iris\\venv\\Lib\\site-packages\\numpy\\lib\\nanfunctions.py:1215: RuntimeWarning: Mean of empty slice\n",
      "  return np.nanmean(a, axis, out=out, keepdims=keepdims)\n",
      "C:\\Users\\josec\\Documents\\ml2_knn_iris\\venv\\Lib\\site-packages\\numpy\\lib\\nanfunctions.py:1215: RuntimeWarning: Mean of empty slice\n",
      "  return np.nanmean(a, axis, out=out, keepdims=keepdims)\n",
      "C:\\Users\\josec\\Documents\\ml2_knn_iris\\venv\\Lib\\site-packages\\numpy\\lib\\nanfunctions.py:1215: RuntimeWarning: Mean of empty slice\n",
      "  return np.nanmean(a, axis, out=out, keepdims=keepdims)\n",
      "C:\\Users\\josec\\Documents\\ml2_knn_iris\\venv\\Lib\\site-packages\\numpy\\lib\\nanfunctions.py:1215: RuntimeWarning: Mean of empty slice\n",
      "  return np.nanmean(a, axis, out=out, keepdims=keepdims)\n",
      "C:\\Users\\josec\\Documents\\ml2_knn_iris\\venv\\Lib\\site-packages\\numpy\\lib\\nanfunctions.py:1215: RuntimeWarning: Mean of empty slice\n",
      "  return np.nanmean(a, axis, out=out, keepdims=keepdims)\n",
      "C:\\Users\\josec\\Documents\\ml2_knn_iris\\venv\\Lib\\site-packages\\numpy\\lib\\nanfunctions.py:1215: RuntimeWarning: Mean of empty slice\n",
      "  return np.nanmean(a, axis, out=out, keepdims=keepdims)\n",
      "C:\\Users\\josec\\Documents\\ml2_knn_iris\\venv\\Lib\\site-packages\\numpy\\lib\\nanfunctions.py:1215: RuntimeWarning: Mean of empty slice\n",
      "  return np.nanmean(a, axis, out=out, keepdims=keepdims)\n",
      "C:\\Users\\josec\\Documents\\ml2_knn_iris\\venv\\Lib\\site-packages\\numpy\\lib\\nanfunctions.py:1215: RuntimeWarning: Mean of empty slice\n",
      "  return np.nanmean(a, axis, out=out, keepdims=keepdims)\n",
      "C:\\Users\\josec\\Documents\\ml2_knn_iris\\venv\\Lib\\site-packages\\numpy\\lib\\nanfunctions.py:1215: RuntimeWarning: Mean of empty slice\n",
      "  return np.nanmean(a, axis, out=out, keepdims=keepdims)\n",
      "C:\\Users\\josec\\Documents\\ml2_knn_iris\\venv\\Lib\\site-packages\\numpy\\lib\\nanfunctions.py:1215: RuntimeWarning: Mean of empty slice\n",
      "  return np.nanmean(a, axis, out=out, keepdims=keepdims)\n",
      "C:\\Users\\josec\\Documents\\ml2_knn_iris\\venv\\Lib\\site-packages\\numpy\\lib\\nanfunctions.py:1215: RuntimeWarning: Mean of empty slice\n",
      "  return np.nanmean(a, axis, out=out, keepdims=keepdims)\n",
      "C:\\Users\\josec\\Documents\\ml2_knn_iris\\venv\\Lib\\site-packages\\numpy\\lib\\nanfunctions.py:1215: RuntimeWarning: Mean of empty slice\n",
      "  return np.nanmean(a, axis, out=out, keepdims=keepdims)\n",
      "C:\\Users\\josec\\Documents\\ml2_knn_iris\\venv\\Lib\\site-packages\\numpy\\lib\\nanfunctions.py:1215: RuntimeWarning: Mean of empty slice\n",
      "  return np.nanmean(a, axis, out=out, keepdims=keepdims)\n",
      "C:\\Users\\josec\\Documents\\ml2_knn_iris\\venv\\Lib\\site-packages\\numpy\\lib\\nanfunctions.py:1215: RuntimeWarning: Mean of empty slice\n",
      "  return np.nanmean(a, axis, out=out, keepdims=keepdims)\n",
      "C:\\Users\\josec\\Documents\\ml2_knn_iris\\venv\\Lib\\site-packages\\numpy\\lib\\nanfunctions.py:1215: RuntimeWarning: Mean of empty slice\n",
      "  return np.nanmean(a, axis, out=out, keepdims=keepdims)\n",
      "C:\\Users\\josec\\Documents\\ml2_knn_iris\\venv\\Lib\\site-packages\\numpy\\lib\\nanfunctions.py:1215: RuntimeWarning: Mean of empty slice\n",
      "  return np.nanmean(a, axis, out=out, keepdims=keepdims)\n",
      "C:\\Users\\josec\\Documents\\ml2_knn_iris\\venv\\Lib\\site-packages\\numpy\\lib\\nanfunctions.py:1215: RuntimeWarning: Mean of empty slice\n",
      "  return np.nanmean(a, axis, out=out, keepdims=keepdims)\n",
      "C:\\Users\\josec\\Documents\\ml2_knn_iris\\venv\\Lib\\site-packages\\numpy\\lib\\nanfunctions.py:1215: RuntimeWarning: Mean of empty slice\n",
      "  return np.nanmean(a, axis, out=out, keepdims=keepdims)\n",
      "C:\\Users\\josec\\Documents\\ml2_knn_iris\\venv\\Lib\\site-packages\\numpy\\lib\\nanfunctions.py:1215: RuntimeWarning: Mean of empty slice\n",
      "  return np.nanmean(a, axis, out=out, keepdims=keepdims)\n",
      "C:\\Users\\josec\\Documents\\ml2_knn_iris\\venv\\Lib\\site-packages\\numpy\\lib\\nanfunctions.py:1215: RuntimeWarning: Mean of empty slice\n",
      "  return np.nanmean(a, axis, out=out, keepdims=keepdims)\n",
      "C:\\Users\\josec\\Documents\\ml2_knn_iris\\venv\\Lib\\site-packages\\numpy\\lib\\nanfunctions.py:1215: RuntimeWarning: Mean of empty slice\n",
      "  return np.nanmean(a, axis, out=out, keepdims=keepdims)\n",
      "C:\\Users\\josec\\Documents\\ml2_knn_iris\\venv\\Lib\\site-packages\\numpy\\lib\\nanfunctions.py:1215: RuntimeWarning: Mean of empty slice\n",
      "  return np.nanmean(a, axis, out=out, keepdims=keepdims)\n",
      "C:\\Users\\josec\\Documents\\ml2_knn_iris\\venv\\Lib\\site-packages\\numpy\\lib\\nanfunctions.py:1215: RuntimeWarning: Mean of empty slice\n",
      "  return np.nanmean(a, axis, out=out, keepdims=keepdims)\n",
      "C:\\Users\\josec\\Documents\\ml2_knn_iris\\venv\\Lib\\site-packages\\numpy\\lib\\nanfunctions.py:1215: RuntimeWarning: Mean of empty slice\n",
      "  return np.nanmean(a, axis, out=out, keepdims=keepdims)\n",
      "C:\\Users\\josec\\Documents\\ml2_knn_iris\\venv\\Lib\\site-packages\\numpy\\lib\\nanfunctions.py:1215: RuntimeWarning: Mean of empty slice\n",
      "  return np.nanmean(a, axis, out=out, keepdims=keepdims)\n",
      "C:\\Users\\josec\\Documents\\ml2_knn_iris\\venv\\Lib\\site-packages\\numpy\\lib\\nanfunctions.py:1215: RuntimeWarning: Mean of empty slice\n",
      "  return np.nanmean(a, axis, out=out, keepdims=keepdims)\n",
      "C:\\Users\\josec\\Documents\\ml2_knn_iris\\venv\\Lib\\site-packages\\numpy\\lib\\nanfunctions.py:1215: RuntimeWarning: Mean of empty slice\n",
      "  return np.nanmean(a, axis, out=out, keepdims=keepdims)\n",
      "C:\\Users\\josec\\Documents\\ml2_knn_iris\\venv\\Lib\\site-packages\\numpy\\lib\\nanfunctions.py:1215: RuntimeWarning: Mean of empty slice\n",
      "  return np.nanmean(a, axis, out=out, keepdims=keepdims)\n",
      "C:\\Users\\josec\\Documents\\ml2_knn_iris\\venv\\Lib\\site-packages\\numpy\\lib\\nanfunctions.py:1215: RuntimeWarning: Mean of empty slice\n",
      "  return np.nanmean(a, axis, out=out, keepdims=keepdims)\n",
      "C:\\Users\\josec\\Documents\\ml2_knn_iris\\venv\\Lib\\site-packages\\numpy\\lib\\nanfunctions.py:1215: RuntimeWarning: Mean of empty slice\n",
      "  return np.nanmean(a, axis, out=out, keepdims=keepdims)\n"
     ]
    },
    {
     "data": {
      "text/plain": "home                    0\naway                    0\nattendance             76\npart_of_competition     0\nhome_score              0\naway_score              0\nmonth                   8\ndtype: int64"
     },
     "execution_count": 134,
     "metadata": {},
     "output_type": "execute_result"
    }
   ],
   "source": [
    "# Fill attendance nulls\n",
    "data['attendance'] = data['attendance'].str.replace(',', '')\n",
    "data['attendance'] = data['attendance'].astype(float)\n",
    "data['attendance'] = data.groupby(['home', 'away'])['attendance'].transform(lambda x: x.fillna(x.median()))\n",
    "data.isnull().sum()"
   ],
   "metadata": {
    "collapsed": false,
    "ExecuteTime": {
     "end_time": "2023-10-28T13:24:57.526794900Z",
     "start_time": "2023-10-28T13:24:57.361811400Z"
    }
   },
   "id": "892a921e10c31e5d"
  },
  {
   "cell_type": "code",
   "execution_count": 135,
   "outputs": [
    {
     "data": {
      "text/plain": "home                   0\naway                   0\nattendance             0\npart_of_competition    0\nhome_score             0\naway_score             0\nmonth                  0\ndtype: int64"
     },
     "execution_count": 135,
     "metadata": {},
     "output_type": "execute_result"
    }
   ],
   "source": [
    "# Drop nulls\n",
    "data = data.dropna()\n",
    "data.isnull().sum()"
   ],
   "metadata": {
    "collapsed": false,
    "ExecuteTime": {
     "end_time": "2023-10-28T13:25:00.381133300Z",
     "start_time": "2023-10-28T13:25:00.361795100Z"
    }
   },
   "id": "7defcea62ec687d5"
  },
  {
   "cell_type": "code",
   "execution_count": 136,
   "outputs": [
    {
     "name": "stderr",
     "output_type": "stream",
     "text": [
      "C:\\Users\\josec\\AppData\\Local\\Temp\\ipykernel_9228\\2057043842.py:10: SettingWithCopyWarning: \n",
      "A value is trying to be set on a copy of a slice from a DataFrame.\n",
      "Try using .loc[row_indexer,col_indexer] = value instead\n",
      "\n",
      "See the caveats in the documentation: https://pandas.pydata.org/pandas-docs/stable/user_guide/indexing.html#returning-a-view-versus-a-copy\n",
      "  data['result'] = data.apply(determine_result, axis=1)\n"
     ]
    },
    {
     "data": {
      "text/plain": "                     home                 away  attendance  \\\n0             New England             San Jose     12871.0   \n1                  Dallas             Colorado      9704.0   \n2                Colorado          D.C. United      6368.0   \n3               LA Galaxy          New England     10251.0   \n4             New England          D.C. United     18347.0   \n...                   ...                  ...         ...   \n7284      Chicago Fire FC  Seattle Sounders FC     13601.0   \n7285       Inter Miami CF         Charlotte FC     12274.0   \n7286  Minnesota United FC          D.C. United     19718.0   \n7287      Colorado Rapids            LA Galaxy     17975.0   \n7288            FC Dallas            Austin FC     16833.0   \n\n     part_of_competition  month     result  \n0         Regular Season    7.0   home_win  \n1         Regular Season    6.0       draw  \n2         Regular Season    8.0  away_wins  \n3         Regular Season    8.0   home_win  \n4         Regular Season    7.0   home_win  \n...                  ...    ...        ...  \n7284      Regular Season    7.0   home_win  \n7285      Regular Season    7.0   home_win  \n7286      Regular Season    7.0   home_win  \n7287      Regular Season    7.0   home_win  \n7288      Regular Season    7.0       draw  \n\n[7205 rows x 6 columns]",
      "text/html": "<div>\n<style scoped>\n    .dataframe tbody tr th:only-of-type {\n        vertical-align: middle;\n    }\n\n    .dataframe tbody tr th {\n        vertical-align: top;\n    }\n\n    .dataframe thead th {\n        text-align: right;\n    }\n</style>\n<table border=\"1\" class=\"dataframe\">\n  <thead>\n    <tr style=\"text-align: right;\">\n      <th></th>\n      <th>home</th>\n      <th>away</th>\n      <th>attendance</th>\n      <th>part_of_competition</th>\n      <th>month</th>\n      <th>result</th>\n    </tr>\n  </thead>\n  <tbody>\n    <tr>\n      <th>0</th>\n      <td>New England</td>\n      <td>San Jose</td>\n      <td>12871.0</td>\n      <td>Regular Season</td>\n      <td>7.0</td>\n      <td>home_win</td>\n    </tr>\n    <tr>\n      <th>1</th>\n      <td>Dallas</td>\n      <td>Colorado</td>\n      <td>9704.0</td>\n      <td>Regular Season</td>\n      <td>6.0</td>\n      <td>draw</td>\n    </tr>\n    <tr>\n      <th>2</th>\n      <td>Colorado</td>\n      <td>D.C. United</td>\n      <td>6368.0</td>\n      <td>Regular Season</td>\n      <td>8.0</td>\n      <td>away_wins</td>\n    </tr>\n    <tr>\n      <th>3</th>\n      <td>LA Galaxy</td>\n      <td>New England</td>\n      <td>10251.0</td>\n      <td>Regular Season</td>\n      <td>8.0</td>\n      <td>home_win</td>\n    </tr>\n    <tr>\n      <th>4</th>\n      <td>New England</td>\n      <td>D.C. United</td>\n      <td>18347.0</td>\n      <td>Regular Season</td>\n      <td>7.0</td>\n      <td>home_win</td>\n    </tr>\n    <tr>\n      <th>...</th>\n      <td>...</td>\n      <td>...</td>\n      <td>...</td>\n      <td>...</td>\n      <td>...</td>\n      <td>...</td>\n    </tr>\n    <tr>\n      <th>7284</th>\n      <td>Chicago Fire FC</td>\n      <td>Seattle Sounders FC</td>\n      <td>13601.0</td>\n      <td>Regular Season</td>\n      <td>7.0</td>\n      <td>home_win</td>\n    </tr>\n    <tr>\n      <th>7285</th>\n      <td>Inter Miami CF</td>\n      <td>Charlotte FC</td>\n      <td>12274.0</td>\n      <td>Regular Season</td>\n      <td>7.0</td>\n      <td>home_win</td>\n    </tr>\n    <tr>\n      <th>7286</th>\n      <td>Minnesota United FC</td>\n      <td>D.C. United</td>\n      <td>19718.0</td>\n      <td>Regular Season</td>\n      <td>7.0</td>\n      <td>home_win</td>\n    </tr>\n    <tr>\n      <th>7287</th>\n      <td>Colorado Rapids</td>\n      <td>LA Galaxy</td>\n      <td>17975.0</td>\n      <td>Regular Season</td>\n      <td>7.0</td>\n      <td>home_win</td>\n    </tr>\n    <tr>\n      <th>7288</th>\n      <td>FC Dallas</td>\n      <td>Austin FC</td>\n      <td>16833.0</td>\n      <td>Regular Season</td>\n      <td>7.0</td>\n      <td>draw</td>\n    </tr>\n  </tbody>\n</table>\n<p>7205 rows × 6 columns</p>\n</div>"
     },
     "execution_count": 136,
     "metadata": {},
     "output_type": "execute_result"
    }
   ],
   "source": [
    "# Fill results\n",
    "def determine_result(row):\n",
    "    if row['home_score'] == row['away_score']:\n",
    "        return 'draw'\n",
    "    elif row['home_score'] > row['away_score']:\n",
    "        return 'home_win'\n",
    "    else:\n",
    "        return 'away_wins'\n",
    "\n",
    "data['result'] = data.apply(determine_result, axis=1)\n",
    "data = data.drop(columns=[\"home_score\", \"away_score\"], axis=1)\n",
    "data"
   ],
   "metadata": {
    "collapsed": false,
    "ExecuteTime": {
     "end_time": "2023-10-28T13:25:02.597947500Z",
     "start_time": "2023-10-28T13:25:02.549904200Z"
    }
   },
   "id": "ac291c754c615adf"
  },
  {
   "cell_type": "code",
   "execution_count": 143,
   "outputs": [],
   "source": [
    "# Fix team names\n",
    "def fix_team_names(name):\n",
    "    if name == \"Atlanta United FC\":\n",
    "        return \"Atlanta United\"\n",
    "    if name == \"Chicago\":\n",
    "        return \"Chicago Fire FC\"\n",
    "    if name == \"Colorado\":\n",
    "        return \"Colorado Rapids\"\n",
    "    if name == \"Columbus Crew SC\" or name == \"Columbus\":\n",
    "        return \"Columbus Crew\"\n",
    "    if name == \"DC United\":\n",
    "        return \"D.C. United\"\n",
    "    if name == \"Houston Dynamo\":\n",
    "        return \"Houston Dynamo FC\"\n",
    "    if name == \"Montreal Impact\":\n",
    "        return \"CF Montréal\"\n",
    "    if name == \"Dallas\":\n",
    "        return \"FC Dallas\"\n",
    "    if name == \"New England\":\n",
    "        return \"New England Revolution\"\n",
    "    if name == \"San Jose\":\n",
    "        return \"San Jose Earthquakes\"\n",
    "    \n",
    "    return name\n",
    "\n",
    "data[\"home\"] = data[\"home\"].apply(fix_team_names)\n",
    "data[\"away\"] = data[\"away\"].apply(fix_team_names)\n",
    "\n",
    "# https://www.espn.com/soccer/teams/_/league/usa.1\n",
    "mls_teams = [\"Atlanta United FC\", \"Austin FC\", \"CF Montréal\", \"Charlotte FC\", \n",
    "             \"Chicago Fire FC\", \"Colorado Rapids\", \"Columbus Crew\", \"D.C. United\",\n",
    "             \"FC Cincinnati\", \"FC Dallas\", \"Houston Dynamo FC\", \"Inter Miami CF\",\n",
    "             \"LA Galaxy\", \"LAFC\", \"Minnesota United FC\", \"Nashville SC\",\n",
    "             \"New England Revolution\", \"New York City FC\", \"New York Red Bulls\",\n",
    "             \"Orlando City SC\", \"Philadelphia Union\", \"Portland Timbers\",\n",
    "             \"Real Salt Lake\", \"San Jose Earthquakes\", \"Seattle Sounders FC\",\n",
    "             \"Sporting Kansas City\", \"Toronto FC\", \"Vancouver Whitecaps\"]"
   ],
   "metadata": {
    "collapsed": false,
    "ExecuteTime": {
     "end_time": "2023-10-28T13:26:20.858332200Z",
     "start_time": "2023-10-28T13:26:20.858332200Z"
    }
   },
   "id": "2e672b80c3f77289"
  },
  {
   "cell_type": "code",
   "execution_count": 149,
   "outputs": [],
   "source": [
    "# Renaming competitions\n",
    "def rename_competition(name):\n",
    "    name_value = name.strip()\n",
    "    if name_value.startswith(\"2007\"):\n",
    "        return \"Playoffs\"\n",
    "    if name_value.startswith(\"Regular\"):\n",
    "        return \"Regular Season\"\n",
    "    if name_value.startswith(\"MLS Cup\"):\n",
    "        return \"MLS Cup\"\n",
    "    \n",
    "    return name\n",
    "\n",
    "data[\"part_of_competition\"] = data[\"part_of_competition\"].apply(rename_competition)"
   ],
   "metadata": {
    "collapsed": false,
    "ExecuteTime": {
     "end_time": "2023-10-28T13:29:40.774848800Z",
     "start_time": "2023-10-28T13:29:40.770315400Z"
    }
   },
   "id": "6d3a2f922c54fc60"
  },
  {
   "cell_type": "code",
   "execution_count": 152,
   "outputs": [],
   "source": [
    "data.to_csv(\"mls_matches.csv\")"
   ],
   "metadata": {
    "collapsed": false,
    "ExecuteTime": {
     "end_time": "2023-10-28T13:30:26.478399Z",
     "start_time": "2023-10-28T13:30:26.444061200Z"
    }
   },
   "id": "29c84f9e6087bf4b"
  },
  {
   "cell_type": "code",
   "execution_count": 153,
   "outputs": [
    {
     "data": {
      "text/plain": "                        home                    away  attendance  \\\n0     New England Revolution    San Jose Earthquakes     12871.0   \n1                  FC Dallas         Colorado Rapids      9704.0   \n2            Colorado Rapids             D.C. United      6368.0   \n3                  LA Galaxy  New England Revolution     10251.0   \n4     New England Revolution             D.C. United     18347.0   \n...                      ...                     ...         ...   \n7284         Chicago Fire FC     Seattle Sounders FC     13601.0   \n7285          Inter Miami CF            Charlotte FC     12274.0   \n7286     Minnesota United FC             D.C. United     19718.0   \n7287         Colorado Rapids               LA Galaxy     17975.0   \n7288               FC Dallas               Austin FC     16833.0   \n\n     part_of_competition  month     result  \n0         Regular Season    7.0   home_win  \n1         Regular Season    6.0       draw  \n2         Regular Season    8.0  away_wins  \n3         Regular Season    8.0   home_win  \n4         Regular Season    7.0   home_win  \n...                  ...    ...        ...  \n7284      Regular Season    7.0   home_win  \n7285      Regular Season    7.0   home_win  \n7286      Regular Season    7.0   home_win  \n7287      Regular Season    7.0   home_win  \n7288      Regular Season    7.0       draw  \n\n[7205 rows x 6 columns]",
      "text/html": "<div>\n<style scoped>\n    .dataframe tbody tr th:only-of-type {\n        vertical-align: middle;\n    }\n\n    .dataframe tbody tr th {\n        vertical-align: top;\n    }\n\n    .dataframe thead th {\n        text-align: right;\n    }\n</style>\n<table border=\"1\" class=\"dataframe\">\n  <thead>\n    <tr style=\"text-align: right;\">\n      <th></th>\n      <th>home</th>\n      <th>away</th>\n      <th>attendance</th>\n      <th>part_of_competition</th>\n      <th>month</th>\n      <th>result</th>\n    </tr>\n  </thead>\n  <tbody>\n    <tr>\n      <th>0</th>\n      <td>New England Revolution</td>\n      <td>San Jose Earthquakes</td>\n      <td>12871.0</td>\n      <td>Regular Season</td>\n      <td>7.0</td>\n      <td>home_win</td>\n    </tr>\n    <tr>\n      <th>1</th>\n      <td>FC Dallas</td>\n      <td>Colorado Rapids</td>\n      <td>9704.0</td>\n      <td>Regular Season</td>\n      <td>6.0</td>\n      <td>draw</td>\n    </tr>\n    <tr>\n      <th>2</th>\n      <td>Colorado Rapids</td>\n      <td>D.C. United</td>\n      <td>6368.0</td>\n      <td>Regular Season</td>\n      <td>8.0</td>\n      <td>away_wins</td>\n    </tr>\n    <tr>\n      <th>3</th>\n      <td>LA Galaxy</td>\n      <td>New England Revolution</td>\n      <td>10251.0</td>\n      <td>Regular Season</td>\n      <td>8.0</td>\n      <td>home_win</td>\n    </tr>\n    <tr>\n      <th>4</th>\n      <td>New England Revolution</td>\n      <td>D.C. United</td>\n      <td>18347.0</td>\n      <td>Regular Season</td>\n      <td>7.0</td>\n      <td>home_win</td>\n    </tr>\n    <tr>\n      <th>...</th>\n      <td>...</td>\n      <td>...</td>\n      <td>...</td>\n      <td>...</td>\n      <td>...</td>\n      <td>...</td>\n    </tr>\n    <tr>\n      <th>7284</th>\n      <td>Chicago Fire FC</td>\n      <td>Seattle Sounders FC</td>\n      <td>13601.0</td>\n      <td>Regular Season</td>\n      <td>7.0</td>\n      <td>home_win</td>\n    </tr>\n    <tr>\n      <th>7285</th>\n      <td>Inter Miami CF</td>\n      <td>Charlotte FC</td>\n      <td>12274.0</td>\n      <td>Regular Season</td>\n      <td>7.0</td>\n      <td>home_win</td>\n    </tr>\n    <tr>\n      <th>7286</th>\n      <td>Minnesota United FC</td>\n      <td>D.C. United</td>\n      <td>19718.0</td>\n      <td>Regular Season</td>\n      <td>7.0</td>\n      <td>home_win</td>\n    </tr>\n    <tr>\n      <th>7287</th>\n      <td>Colorado Rapids</td>\n      <td>LA Galaxy</td>\n      <td>17975.0</td>\n      <td>Regular Season</td>\n      <td>7.0</td>\n      <td>home_win</td>\n    </tr>\n    <tr>\n      <th>7288</th>\n      <td>FC Dallas</td>\n      <td>Austin FC</td>\n      <td>16833.0</td>\n      <td>Regular Season</td>\n      <td>7.0</td>\n      <td>draw</td>\n    </tr>\n  </tbody>\n</table>\n<p>7205 rows × 6 columns</p>\n</div>"
     },
     "execution_count": 153,
     "metadata": {},
     "output_type": "execute_result"
    }
   ],
   "source": [
    "data"
   ],
   "metadata": {
    "collapsed": false,
    "ExecuteTime": {
     "end_time": "2023-10-28T13:31:29.842421400Z",
     "start_time": "2023-10-28T13:31:29.825082900Z"
    }
   },
   "id": "233909d77ca94e4d"
  }
 ],
 "metadata": {
  "kernelspec": {
   "display_name": "Python 3",
   "language": "python",
   "name": "python3"
  },
  "language_info": {
   "codemirror_mode": {
    "name": "ipython",
    "version": 2
   },
   "file_extension": ".py",
   "mimetype": "text/x-python",
   "name": "python",
   "nbconvert_exporter": "python",
   "pygments_lexer": "ipython2",
   "version": "2.7.6"
  }
 },
 "nbformat": 4,
 "nbformat_minor": 5
}
