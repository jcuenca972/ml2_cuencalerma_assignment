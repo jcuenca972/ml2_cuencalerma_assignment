{
 "cells": [
  {
   "cell_type": "code",
   "execution_count": 58,
   "id": "initial_id",
   "metadata": {
    "collapsed": true,
    "ExecuteTime": {
     "end_time": "2023-10-29T09:40:05.774383Z",
     "start_time": "2023-10-29T09:40:05.766114400Z"
    }
   },
   "outputs": [],
   "source": [
    "import pandas as pd\n",
    "from sklearn.preprocessing import OneHotEncoder\n",
    "from sklearn.model_selection import train_test_split\n",
    "from sklearn.preprocessing import StandardScaler\n",
    "from tensorflow.keras.models import Sequential\n",
    "from tensorflow.keras.layers import Dense\n",
    "from tensorflow.keras.optimizers import Adam\n",
    "from tensorflow.keras.utils import to_categorical\n",
    "from sklearn.metrics import accuracy_score\n",
    "from tensorflow.keras.models import Sequential\n",
    "from tensorflow.keras.layers import Dense\n",
    "from tensorflow.keras.optimizers import Adam\n",
    "from kerastuner.tuners import RandomSearch\n",
    "from sklearn.pipeline import Pipeline\n",
    "from sklearn.compose import ColumnTransformer\n",
    "from sklearn.base import BaseEstimator, TransformerMixin\n",
    "from joblib import dump"
   ]
  },
  {
   "cell_type": "markdown",
   "source": [
    "# 1. Input Data"
   ],
   "metadata": {
    "collapsed": false
   },
   "id": "10eb2dd7e70a9235"
  },
  {
   "cell_type": "code",
   "execution_count": 17,
   "outputs": [],
   "source": [
    "data = pd.read_csv(\"mobile/phone_specifics.csv\")"
   ],
   "metadata": {
    "collapsed": false,
    "ExecuteTime": {
     "end_time": "2023-10-29T09:01:24.541314200Z",
     "start_time": "2023-10-29T09:01:24.503741200Z"
    }
   },
   "id": "8345cd2e1a9740b9"
  },
  {
   "cell_type": "markdown",
   "source": [
    "# 2. Exploring Dataset"
   ],
   "metadata": {
    "collapsed": false
   },
   "id": "a4459c73f50401fb"
  },
  {
   "cell_type": "code",
   "execution_count": 18,
   "outputs": [
    {
     "data": {
      "text/plain": "battery_power    0\nblue             0\nclock_speed      0\ndual_sim         0\nfc               0\nfour_g           0\nint_memory       0\nm_dep            0\nmobile_wt        0\nn_cores          0\npc               0\npx_height        0\npx_width         0\nram              0\nsc_h             0\nsc_w             0\ntalk_time        0\nthree_g          0\ntouch_screen     0\nwifi             0\nprice_range      0\ndtype: int64"
     },
     "execution_count": 18,
     "metadata": {},
     "output_type": "execute_result"
    }
   ],
   "source": [
    "data.isnull().sum()"
   ],
   "metadata": {
    "collapsed": false,
    "ExecuteTime": {
     "end_time": "2023-10-29T09:01:37.088726Z",
     "start_time": "2023-10-29T09:01:37.076884700Z"
    }
   },
   "id": "3d888d59dfe0a7d4"
  },
  {
   "cell_type": "markdown",
   "source": [
    "# 3. Data Cleaning"
   ],
   "metadata": {
    "collapsed": false
   },
   "id": "390f536258ee4a1e"
  },
  {
   "cell_type": "code",
   "execution_count": 25,
   "outputs": [
    {
     "data": {
      "text/plain": "      battery_power  blue  clock_speed  dual_sim  fc  four_g  int_memory  \\\n0               842     0          2.2         0   1       0           7   \n1              1021     1          0.5         1   0       1          53   \n2               563     1          0.5         1   2       1          41   \n3               615     1          2.5         0   0       0          10   \n4              1821     1          1.2         0  13       1          44   \n...             ...   ...          ...       ...  ..     ...         ...   \n1995            794     1          0.5         1   0       1           2   \n1996           1965     1          2.6         1   0       0          39   \n1997           1911     0          0.9         1   1       1          36   \n1998           1512     0          0.9         0   4       1          46   \n1999            510     1          2.0         1   5       1          45   \n\n      m_dep  mobile_wt  n_cores  ...  px_height  px_width   ram  sc_h  sc_w  \\\n0       0.6        188        2  ...         20       756  2549     9     7   \n1       0.7        136        3  ...        905      1988  2631    17     3   \n2       0.9        145        5  ...       1263      1716  2603    11     2   \n3       0.8        131        6  ...       1216      1786  2769    16     8   \n4       0.6        141        2  ...       1208      1212  1411     8     2   \n...     ...        ...      ...  ...        ...       ...   ...   ...   ...   \n1995    0.8        106        6  ...       1222      1890   668    13     4   \n1996    0.2        187        4  ...        915      1965  2032    11    10   \n1997    0.7        108        8  ...        868      1632  3057     9     1   \n1998    0.1        145        5  ...        336       670   869    18    10   \n1999    0.9        168        6  ...        483       754  3919    19     4   \n\n      talk_time  three_g  touch_screen  wifi  price_range  \n0            19        0             0     1            1  \n1             7        1             1     0            2  \n2             9        1             1     0            2  \n3            11        1             0     0            2  \n4            15        1             1     0            1  \n...         ...      ...           ...   ...          ...  \n1995         19        1             1     0            0  \n1996         16        1             1     1            2  \n1997          5        1             1     0            3  \n1998         19        1             1     1            0  \n1999          2        1             1     1            3  \n\n[2000 rows x 21 columns]",
      "text/html": "<div>\n<style scoped>\n    .dataframe tbody tr th:only-of-type {\n        vertical-align: middle;\n    }\n\n    .dataframe tbody tr th {\n        vertical-align: top;\n    }\n\n    .dataframe thead th {\n        text-align: right;\n    }\n</style>\n<table border=\"1\" class=\"dataframe\">\n  <thead>\n    <tr style=\"text-align: right;\">\n      <th></th>\n      <th>battery_power</th>\n      <th>blue</th>\n      <th>clock_speed</th>\n      <th>dual_sim</th>\n      <th>fc</th>\n      <th>four_g</th>\n      <th>int_memory</th>\n      <th>m_dep</th>\n      <th>mobile_wt</th>\n      <th>n_cores</th>\n      <th>...</th>\n      <th>px_height</th>\n      <th>px_width</th>\n      <th>ram</th>\n      <th>sc_h</th>\n      <th>sc_w</th>\n      <th>talk_time</th>\n      <th>three_g</th>\n      <th>touch_screen</th>\n      <th>wifi</th>\n      <th>price_range</th>\n    </tr>\n  </thead>\n  <tbody>\n    <tr>\n      <th>0</th>\n      <td>842</td>\n      <td>0</td>\n      <td>2.2</td>\n      <td>0</td>\n      <td>1</td>\n      <td>0</td>\n      <td>7</td>\n      <td>0.6</td>\n      <td>188</td>\n      <td>2</td>\n      <td>...</td>\n      <td>20</td>\n      <td>756</td>\n      <td>2549</td>\n      <td>9</td>\n      <td>7</td>\n      <td>19</td>\n      <td>0</td>\n      <td>0</td>\n      <td>1</td>\n      <td>1</td>\n    </tr>\n    <tr>\n      <th>1</th>\n      <td>1021</td>\n      <td>1</td>\n      <td>0.5</td>\n      <td>1</td>\n      <td>0</td>\n      <td>1</td>\n      <td>53</td>\n      <td>0.7</td>\n      <td>136</td>\n      <td>3</td>\n      <td>...</td>\n      <td>905</td>\n      <td>1988</td>\n      <td>2631</td>\n      <td>17</td>\n      <td>3</td>\n      <td>7</td>\n      <td>1</td>\n      <td>1</td>\n      <td>0</td>\n      <td>2</td>\n    </tr>\n    <tr>\n      <th>2</th>\n      <td>563</td>\n      <td>1</td>\n      <td>0.5</td>\n      <td>1</td>\n      <td>2</td>\n      <td>1</td>\n      <td>41</td>\n      <td>0.9</td>\n      <td>145</td>\n      <td>5</td>\n      <td>...</td>\n      <td>1263</td>\n      <td>1716</td>\n      <td>2603</td>\n      <td>11</td>\n      <td>2</td>\n      <td>9</td>\n      <td>1</td>\n      <td>1</td>\n      <td>0</td>\n      <td>2</td>\n    </tr>\n    <tr>\n      <th>3</th>\n      <td>615</td>\n      <td>1</td>\n      <td>2.5</td>\n      <td>0</td>\n      <td>0</td>\n      <td>0</td>\n      <td>10</td>\n      <td>0.8</td>\n      <td>131</td>\n      <td>6</td>\n      <td>...</td>\n      <td>1216</td>\n      <td>1786</td>\n      <td>2769</td>\n      <td>16</td>\n      <td>8</td>\n      <td>11</td>\n      <td>1</td>\n      <td>0</td>\n      <td>0</td>\n      <td>2</td>\n    </tr>\n    <tr>\n      <th>4</th>\n      <td>1821</td>\n      <td>1</td>\n      <td>1.2</td>\n      <td>0</td>\n      <td>13</td>\n      <td>1</td>\n      <td>44</td>\n      <td>0.6</td>\n      <td>141</td>\n      <td>2</td>\n      <td>...</td>\n      <td>1208</td>\n      <td>1212</td>\n      <td>1411</td>\n      <td>8</td>\n      <td>2</td>\n      <td>15</td>\n      <td>1</td>\n      <td>1</td>\n      <td>0</td>\n      <td>1</td>\n    </tr>\n    <tr>\n      <th>...</th>\n      <td>...</td>\n      <td>...</td>\n      <td>...</td>\n      <td>...</td>\n      <td>...</td>\n      <td>...</td>\n      <td>...</td>\n      <td>...</td>\n      <td>...</td>\n      <td>...</td>\n      <td>...</td>\n      <td>...</td>\n      <td>...</td>\n      <td>...</td>\n      <td>...</td>\n      <td>...</td>\n      <td>...</td>\n      <td>...</td>\n      <td>...</td>\n      <td>...</td>\n      <td>...</td>\n    </tr>\n    <tr>\n      <th>1995</th>\n      <td>794</td>\n      <td>1</td>\n      <td>0.5</td>\n      <td>1</td>\n      <td>0</td>\n      <td>1</td>\n      <td>2</td>\n      <td>0.8</td>\n      <td>106</td>\n      <td>6</td>\n      <td>...</td>\n      <td>1222</td>\n      <td>1890</td>\n      <td>668</td>\n      <td>13</td>\n      <td>4</td>\n      <td>19</td>\n      <td>1</td>\n      <td>1</td>\n      <td>0</td>\n      <td>0</td>\n    </tr>\n    <tr>\n      <th>1996</th>\n      <td>1965</td>\n      <td>1</td>\n      <td>2.6</td>\n      <td>1</td>\n      <td>0</td>\n      <td>0</td>\n      <td>39</td>\n      <td>0.2</td>\n      <td>187</td>\n      <td>4</td>\n      <td>...</td>\n      <td>915</td>\n      <td>1965</td>\n      <td>2032</td>\n      <td>11</td>\n      <td>10</td>\n      <td>16</td>\n      <td>1</td>\n      <td>1</td>\n      <td>1</td>\n      <td>2</td>\n    </tr>\n    <tr>\n      <th>1997</th>\n      <td>1911</td>\n      <td>0</td>\n      <td>0.9</td>\n      <td>1</td>\n      <td>1</td>\n      <td>1</td>\n      <td>36</td>\n      <td>0.7</td>\n      <td>108</td>\n      <td>8</td>\n      <td>...</td>\n      <td>868</td>\n      <td>1632</td>\n      <td>3057</td>\n      <td>9</td>\n      <td>1</td>\n      <td>5</td>\n      <td>1</td>\n      <td>1</td>\n      <td>0</td>\n      <td>3</td>\n    </tr>\n    <tr>\n      <th>1998</th>\n      <td>1512</td>\n      <td>0</td>\n      <td>0.9</td>\n      <td>0</td>\n      <td>4</td>\n      <td>1</td>\n      <td>46</td>\n      <td>0.1</td>\n      <td>145</td>\n      <td>5</td>\n      <td>...</td>\n      <td>336</td>\n      <td>670</td>\n      <td>869</td>\n      <td>18</td>\n      <td>10</td>\n      <td>19</td>\n      <td>1</td>\n      <td>1</td>\n      <td>1</td>\n      <td>0</td>\n    </tr>\n    <tr>\n      <th>1999</th>\n      <td>510</td>\n      <td>1</td>\n      <td>2.0</td>\n      <td>1</td>\n      <td>5</td>\n      <td>1</td>\n      <td>45</td>\n      <td>0.9</td>\n      <td>168</td>\n      <td>6</td>\n      <td>...</td>\n      <td>483</td>\n      <td>754</td>\n      <td>3919</td>\n      <td>19</td>\n      <td>4</td>\n      <td>2</td>\n      <td>1</td>\n      <td>1</td>\n      <td>1</td>\n      <td>3</td>\n    </tr>\n  </tbody>\n</table>\n<p>2000 rows × 21 columns</p>\n</div>"
     },
     "execution_count": 25,
     "metadata": {},
     "output_type": "execute_result"
    }
   ],
   "source": [
    "data"
   ],
   "metadata": {
    "collapsed": false,
    "ExecuteTime": {
     "end_time": "2023-10-29T09:10:45.772707100Z",
     "start_time": "2023-10-29T09:10:45.735108600Z"
    }
   },
   "id": "4d09a01c5d8d2081"
  },
  {
   "cell_type": "code",
   "execution_count": 51,
   "outputs": [],
   "source": [
    "# Custom transformer for converting target variable to categorical\n",
    "class ToCategoricalTransformer(BaseEstimator, TransformerMixin):\n",
    "    def fit(self, X, y=None):\n",
    "        return self\n",
    "    \n",
    "    def transform(self, y):\n",
    "        return to_categorical(y)\n",
    "\n",
    "feature_pipeline = Pipeline(steps=[\n",
    "    ('ohe', ColumnTransformer(\n",
    "    transformers=[\n",
    "        ('cat', OneHotEncoder(), [\"blue\", \"dual_sim\", \"four_g\", \"three_g\",\n",
    "                       \"touch_screen\", \"wifi\"])\n",
    "    ],\n",
    "    remainder='passthrough'  # Keep the remaining columns untouched\n",
    ")),\n",
    "    ('scaler', StandardScaler())\n",
    "])\n",
    "\n",
    "target_pipeline = Pipeline(steps=[('to_categorical', ToCategoricalTransformer())])"
   ],
   "metadata": {
    "collapsed": false,
    "ExecuteTime": {
     "end_time": "2023-10-29T09:35:46.028195100Z",
     "start_time": "2023-10-29T09:35:46.013091Z"
    }
   },
   "id": "ccb53929de37bb09"
  },
  {
   "cell_type": "markdown",
   "source": [
    "# Step 4. Training the model"
   ],
   "metadata": {
    "collapsed": false
   },
   "id": "341d23516e49cd94"
  },
  {
   "cell_type": "code",
   "execution_count": 52,
   "outputs": [],
   "source": [
    "# General\n",
    "X = data.drop(columns=[\"price_range\"])\n",
    "y = data[\"price_range\"]\n",
    "\n",
    "# Split the data into training and testing sets (80% train, 20% test)\n",
    "X_train, X_test, y_train, y_test = train_test_split(X, y, test_size=0.2, random_state=42)\n",
    "\n",
    "X_train_transformed = feature_pipeline.fit_transform(X_train)\n",
    "X_test_transformed = feature_pipeline.transform(X_test)\n",
    "y_train_categorical = target_pipeline.fit_transform(y_train)\n",
    "y_test_categorical = target_pipeline.transform(y_test)"
   ],
   "metadata": {
    "collapsed": false,
    "ExecuteTime": {
     "end_time": "2023-10-29T09:37:36.482528200Z",
     "start_time": "2023-10-29T09:37:36.442723500Z"
    }
   },
   "id": "428c2b9e417d4445"
  },
  {
   "cell_type": "code",
   "execution_count": 53,
   "outputs": [
    {
     "name": "stdout",
     "output_type": "stream",
     "text": [
      "Model: \"sequential_2\"\n",
      "_________________________________________________________________\n",
      " Layer (type)                Output Shape              Param #   \n",
      "=================================================================\n",
      " dense_6 (Dense)             (None, 64)                1728      \n",
      "                                                                 \n",
      " dense_7 (Dense)             (None, 32)                2080      \n",
      "                                                                 \n",
      " dense_8 (Dense)             (None, 4)                 132       \n",
      "                                                                 \n",
      "=================================================================\n",
      "Total params: 3940 (15.39 KB)\n",
      "Trainable params: 3940 (15.39 KB)\n",
      "Non-trainable params: 0 (0.00 Byte)\n",
      "_________________________________________________________________\n"
     ]
    }
   ],
   "source": [
    "def create_model(learning_rate=0.001):\n",
    "    model = Sequential()\n",
    "    model.add(Dense(64, input_shape=(X_train_transformed.shape[1],), activation='relu'))\n",
    "    model.add(Dense(32, activation='relu'))\n",
    "    model.add(Dense(y_train_categorical.shape[1], activation='softmax'))\n",
    "\n",
    "    optimizer = Adam(learning_rate=learning_rate)\n",
    "    model.compile(loss='categorical_crossentropy', optimizer=optimizer, metrics=['accuracy'])\n",
    "    return model\n",
    "\n",
    "basic_model = create_model()\n",
    "basic_model.summary()"
   ],
   "metadata": {
    "collapsed": false,
    "ExecuteTime": {
     "end_time": "2023-10-29T09:37:42.974533300Z",
     "start_time": "2023-10-29T09:37:42.878972800Z"
    }
   },
   "id": "6f8698ab642a0740"
  },
  {
   "cell_type": "code",
   "execution_count": 54,
   "outputs": [
    {
     "name": "stdout",
     "output_type": "stream",
     "text": [
      "Reloading Tuner from mobile_nl\\mobile\\tuner0.json\n"
     ]
    }
   ],
   "source": [
    "def build_model(hp):\n",
    "    model = Sequential()\n",
    "    model.add(Dense(units=hp.Int('units', min_value=32, max_value=256, step=32),\n",
    "                    activation='relu', input_shape=(X_train_transformed.shape[1],)))\n",
    "    model.add(Dense(units=hp.Int('units', min_value=32, max_value=256, step=32), activation='relu'))\n",
    "    model.add(Dense(y_train_categorical.shape[1], activation='softmax'))\n",
    "\n",
    "    model.compile(optimizer=Adam(hp.Float('learning_rate', min_value=1e-4, max_value=1e-2, sampling='LOG')),\n",
    "                  loss='categorical_crossentropy', metrics=['accuracy'])\n",
    "    return model\n",
    "\n",
    "tuner = RandomSearch(build_model, objective='val_accuracy', max_trials=5, executions_per_trial=3, directory='mobile_nl', project_name='mobile')\n",
    "tuner.search(X_train_transformed, y_train_categorical, epochs=10, validation_split=0.2)"
   ],
   "metadata": {
    "collapsed": false,
    "ExecuteTime": {
     "end_time": "2023-10-29T09:38:07.012323300Z",
     "start_time": "2023-10-29T09:38:06.932925500Z"
    }
   },
   "id": "dee0273f72a6fbd7"
  },
  {
   "cell_type": "code",
   "execution_count": 55,
   "outputs": [
    {
     "name": "stdout",
     "output_type": "stream",
     "text": [
      "Epoch 1/50\n",
      "40/40 [==============================] - 1s 7ms/step - loss: 1.3086 - accuracy: 0.3883 - val_loss: 1.1631 - val_accuracy: 0.4688\n",
      "Epoch 2/50\n",
      "40/40 [==============================] - 0s 3ms/step - loss: 0.9371 - accuracy: 0.6430 - val_loss: 0.8112 - val_accuracy: 0.6719\n",
      "Epoch 3/50\n",
      "40/40 [==============================] - 0s 3ms/step - loss: 0.6227 - accuracy: 0.7906 - val_loss: 0.5838 - val_accuracy: 0.7781\n",
      "Epoch 4/50\n",
      "40/40 [==============================] - 0s 3ms/step - loss: 0.4346 - accuracy: 0.8680 - val_loss: 0.4438 - val_accuracy: 0.8500\n",
      "Epoch 5/50\n",
      "40/40 [==============================] - 0s 2ms/step - loss: 0.3148 - accuracy: 0.9242 - val_loss: 0.3310 - val_accuracy: 0.8844\n",
      "Epoch 6/50\n",
      "40/40 [==============================] - 0s 2ms/step - loss: 0.2399 - accuracy: 0.9453 - val_loss: 0.2740 - val_accuracy: 0.9187\n",
      "Epoch 7/50\n",
      "40/40 [==============================] - 0s 2ms/step - loss: 0.1865 - accuracy: 0.9656 - val_loss: 0.2472 - val_accuracy: 0.9031\n",
      "Epoch 8/50\n",
      "40/40 [==============================] - 0s 3ms/step - loss: 0.1512 - accuracy: 0.9703 - val_loss: 0.2122 - val_accuracy: 0.9219\n",
      "Epoch 9/50\n",
      "40/40 [==============================] - 0s 3ms/step - loss: 0.1239 - accuracy: 0.9773 - val_loss: 0.2249 - val_accuracy: 0.9000\n",
      "Epoch 10/50\n",
      "40/40 [==============================] - 0s 2ms/step - loss: 0.1074 - accuracy: 0.9789 - val_loss: 0.1965 - val_accuracy: 0.9187\n",
      "Epoch 11/50\n",
      "40/40 [==============================] - 0s 2ms/step - loss: 0.0948 - accuracy: 0.9828 - val_loss: 0.2121 - val_accuracy: 0.9094\n",
      "Epoch 12/50\n",
      "40/40 [==============================] - 0s 2ms/step - loss: 0.0765 - accuracy: 0.9922 - val_loss: 0.1951 - val_accuracy: 0.9156\n",
      "Epoch 13/50\n",
      "40/40 [==============================] - 0s 2ms/step - loss: 0.0672 - accuracy: 0.9867 - val_loss: 0.1980 - val_accuracy: 0.9094\n",
      "Epoch 14/50\n",
      "40/40 [==============================] - 0s 3ms/step - loss: 0.0595 - accuracy: 0.9930 - val_loss: 0.1892 - val_accuracy: 0.9125\n",
      "Epoch 15/50\n",
      "40/40 [==============================] - 0s 2ms/step - loss: 0.0518 - accuracy: 0.9945 - val_loss: 0.1990 - val_accuracy: 0.9125\n",
      "Epoch 16/50\n",
      "40/40 [==============================] - 0s 2ms/step - loss: 0.0441 - accuracy: 0.9961 - val_loss: 0.1914 - val_accuracy: 0.9156\n",
      "Epoch 17/50\n",
      "40/40 [==============================] - 0s 2ms/step - loss: 0.0377 - accuracy: 0.9977 - val_loss: 0.1877 - val_accuracy: 0.9094\n",
      "Epoch 18/50\n",
      "40/40 [==============================] - 0s 2ms/step - loss: 0.0318 - accuracy: 0.9977 - val_loss: 0.1923 - val_accuracy: 0.9094\n",
      "Epoch 19/50\n",
      "40/40 [==============================] - 0s 2ms/step - loss: 0.0293 - accuracy: 0.9984 - val_loss: 0.1908 - val_accuracy: 0.9062\n",
      "Epoch 20/50\n",
      "40/40 [==============================] - 0s 3ms/step - loss: 0.0245 - accuracy: 0.9992 - val_loss: 0.1994 - val_accuracy: 0.9094\n",
      "Epoch 21/50\n",
      "40/40 [==============================] - 0s 2ms/step - loss: 0.0240 - accuracy: 0.9984 - val_loss: 0.1978 - val_accuracy: 0.9187\n",
      "Epoch 22/50\n",
      "40/40 [==============================] - 0s 2ms/step - loss: 0.0202 - accuracy: 1.0000 - val_loss: 0.1932 - val_accuracy: 0.9187\n",
      "Epoch 23/50\n",
      "40/40 [==============================] - 0s 3ms/step - loss: 0.0165 - accuracy: 1.0000 - val_loss: 0.2091 - val_accuracy: 0.9094\n",
      "Epoch 24/50\n",
      "40/40 [==============================] - 0s 3ms/step - loss: 0.0147 - accuracy: 1.0000 - val_loss: 0.1984 - val_accuracy: 0.9187\n",
      "Epoch 25/50\n",
      "40/40 [==============================] - 0s 2ms/step - loss: 0.0131 - accuracy: 1.0000 - val_loss: 0.2076 - val_accuracy: 0.9156\n",
      "Epoch 26/50\n",
      "40/40 [==============================] - 0s 2ms/step - loss: 0.0120 - accuracy: 1.0000 - val_loss: 0.2082 - val_accuracy: 0.9062\n",
      "Epoch 27/50\n",
      "40/40 [==============================] - 0s 2ms/step - loss: 0.0114 - accuracy: 1.0000 - val_loss: 0.2115 - val_accuracy: 0.9062\n",
      "Epoch 28/50\n",
      "40/40 [==============================] - 0s 2ms/step - loss: 0.0100 - accuracy: 1.0000 - val_loss: 0.2053 - val_accuracy: 0.9094\n",
      "Epoch 29/50\n",
      "40/40 [==============================] - 0s 3ms/step - loss: 0.0090 - accuracy: 1.0000 - val_loss: 0.2120 - val_accuracy: 0.9125\n",
      "Epoch 30/50\n",
      "40/40 [==============================] - 0s 2ms/step - loss: 0.0080 - accuracy: 1.0000 - val_loss: 0.2141 - val_accuracy: 0.9094\n",
      "Epoch 31/50\n",
      "40/40 [==============================] - 0s 2ms/step - loss: 0.0072 - accuracy: 1.0000 - val_loss: 0.2170 - val_accuracy: 0.9125\n",
      "Epoch 32/50\n",
      "40/40 [==============================] - 0s 2ms/step - loss: 0.0067 - accuracy: 1.0000 - val_loss: 0.2111 - val_accuracy: 0.9156\n",
      "Epoch 33/50\n",
      "40/40 [==============================] - 0s 2ms/step - loss: 0.0062 - accuracy: 1.0000 - val_loss: 0.2200 - val_accuracy: 0.9125\n",
      "Epoch 34/50\n",
      "40/40 [==============================] - 0s 3ms/step - loss: 0.0056 - accuracy: 1.0000 - val_loss: 0.2201 - val_accuracy: 0.9187\n",
      "Epoch 35/50\n",
      "40/40 [==============================] - 0s 3ms/step - loss: 0.0052 - accuracy: 1.0000 - val_loss: 0.2333 - val_accuracy: 0.9187\n",
      "Epoch 36/50\n",
      "40/40 [==============================] - 0s 3ms/step - loss: 0.0048 - accuracy: 1.0000 - val_loss: 0.2316 - val_accuracy: 0.9156\n",
      "Epoch 37/50\n",
      "40/40 [==============================] - 0s 3ms/step - loss: 0.0045 - accuracy: 1.0000 - val_loss: 0.2336 - val_accuracy: 0.9250\n",
      "Epoch 38/50\n",
      "40/40 [==============================] - 0s 3ms/step - loss: 0.0041 - accuracy: 1.0000 - val_loss: 0.2383 - val_accuracy: 0.9125\n",
      "Epoch 39/50\n",
      "40/40 [==============================] - 0s 3ms/step - loss: 0.0039 - accuracy: 1.0000 - val_loss: 0.2391 - val_accuracy: 0.9125\n",
      "Epoch 40/50\n",
      "40/40 [==============================] - 0s 2ms/step - loss: 0.0036 - accuracy: 1.0000 - val_loss: 0.2386 - val_accuracy: 0.9156\n",
      "Epoch 41/50\n",
      "40/40 [==============================] - 0s 2ms/step - loss: 0.0034 - accuracy: 1.0000 - val_loss: 0.2408 - val_accuracy: 0.9125\n",
      "Epoch 42/50\n",
      "40/40 [==============================] - 0s 3ms/step - loss: 0.0031 - accuracy: 1.0000 - val_loss: 0.2427 - val_accuracy: 0.9219\n",
      "Epoch 43/50\n",
      "40/40 [==============================] - 0s 3ms/step - loss: 0.0029 - accuracy: 1.0000 - val_loss: 0.2478 - val_accuracy: 0.9125\n",
      "Epoch 44/50\n",
      "40/40 [==============================] - 0s 2ms/step - loss: 0.0027 - accuracy: 1.0000 - val_loss: 0.2473 - val_accuracy: 0.9187\n",
      "Epoch 45/50\n",
      "40/40 [==============================] - 0s 2ms/step - loss: 0.0026 - accuracy: 1.0000 - val_loss: 0.2499 - val_accuracy: 0.9156\n",
      "Epoch 46/50\n",
      "40/40 [==============================] - 0s 4ms/step - loss: 0.0025 - accuracy: 1.0000 - val_loss: 0.2505 - val_accuracy: 0.9156\n",
      "Epoch 47/50\n",
      "40/40 [==============================] - 0s 3ms/step - loss: 0.0023 - accuracy: 1.0000 - val_loss: 0.2591 - val_accuracy: 0.9125\n",
      "Epoch 48/50\n",
      "40/40 [==============================] - 0s 2ms/step - loss: 0.0022 - accuracy: 1.0000 - val_loss: 0.2536 - val_accuracy: 0.9219\n",
      "Epoch 49/50\n",
      "40/40 [==============================] - 0s 2ms/step - loss: 0.0020 - accuracy: 1.0000 - val_loss: 0.2575 - val_accuracy: 0.9156\n",
      "Epoch 50/50\n",
      "40/40 [==============================] - 0s 2ms/step - loss: 0.0019 - accuracy: 1.0000 - val_loss: 0.2611 - val_accuracy: 0.9125\n"
     ]
    }
   ],
   "source": [
    "best_hps = tuner.get_best_hyperparameters(num_trials=1)[0]\n",
    "model = create_model(learning_rate=best_hps.get('learning_rate'))\n",
    "history = model.fit(X_train_transformed, y_train_categorical, epochs=50, validation_split=0.2, verbose=1)"
   ],
   "metadata": {
    "collapsed": false,
    "ExecuteTime": {
     "end_time": "2023-10-29T09:38:19.427960Z",
     "start_time": "2023-10-29T09:38:13.108452600Z"
    }
   },
   "id": "dc8b5aa70f2fb2dc"
  },
  {
   "cell_type": "code",
   "execution_count": 56,
   "outputs": [
    {
     "name": "stdout",
     "output_type": "stream",
     "text": [
      "13/13 [==============================] - 0s 2ms/step\n",
      "Accuracy on Test Set: 0.9275\n"
     ]
    }
   ],
   "source": [
    "y_pred = model.predict(X_test_transformed)\n",
    "y_pred_classes = y_pred.argmax(axis=1)\n",
    "accuracy = accuracy_score(y_test, y_pred_classes)\n",
    "print(\"Accuracy on Test Set:\", accuracy)"
   ],
   "metadata": {
    "collapsed": false,
    "ExecuteTime": {
     "end_time": "2023-10-29T09:38:24.799927700Z",
     "start_time": "2023-10-29T09:38:24.640246100Z"
    }
   },
   "id": "c8af608f1fd48b93"
  },
  {
   "cell_type": "code",
   "execution_count": 60,
   "outputs": [],
   "source": [
    "# Save the feature pipeline\n",
    "dump(feature_pipeline, 'feature_pipeline.joblib')\n",
    "\n",
    "# Save the target pipeline\n",
    "dump(target_pipeline, 'target_pipeline.joblib')\n",
    "\n",
    "# Save the model\n",
    "model.save('mobile_model.keras')"
   ],
   "metadata": {
    "collapsed": false,
    "ExecuteTime": {
     "end_time": "2023-10-29T09:40:57.020946300Z",
     "start_time": "2023-10-29T09:40:56.974870Z"
    }
   },
   "id": "2b2414016e5af6ae"
  },
  {
   "cell_type": "markdown",
   "source": [
    "# 6. Loading the model"
   ],
   "metadata": {
    "collapsed": false
   },
   "id": "832ff971d6d04f7"
  },
  {
   "cell_type": "code",
   "execution_count": 78,
   "outputs": [
    {
     "name": "stdout",
     "output_type": "stream",
     "text": [
      "1/1 [==============================] - 0s 41ms/step\n",
      "Predicted Label: [3]\n"
     ]
    }
   ],
   "source": [
    "import pandas as pd\n",
    "from joblib import load\n",
    "from tensorflow.keras.models import load_model\n",
    "\n",
    "# Load the feature and target pipelines\n",
    "feature_pipeline = load('feature_pipeline.joblib')\n",
    "\n",
    "# Load the TensorFlow model\n",
    "model = load_model('mobile_model.keras')\n",
    "\n",
    "# New data (example)\n",
    "new_data = data.iloc[[189]].drop(columns=[\"price_range\"])\n",
    "\n",
    "# Preprocess the new data using the loaded pipelines\n",
    "new_data_transformed = feature_pipeline.transform(new_data)\n",
    "\n",
    "# Make a prediction with the loaded model\n",
    "prediction = model.predict(new_data_transformed).argmax(axis=1)\n",
    "\n",
    "# Output the prediction\n",
    "print(\"Predicted Label:\", prediction)"
   ],
   "metadata": {
    "collapsed": false,
    "ExecuteTime": {
     "end_time": "2023-10-29T09:53:54.073106400Z",
     "start_time": "2023-10-29T09:53:53.912689600Z"
    }
   },
   "id": "b2be80a5b228c492"
  },
  {
   "cell_type": "code",
   "execution_count": 75,
   "outputs": [
    {
     "data": {
      "text/plain": "    battery_power  blue  clock_speed  dual_sim  fc  four_g  int_memory  m_dep  \\\n10            769     1          2.9         1   0       0           9    0.1   \n\n    mobile_wt  n_cores  pc  px_height  px_width   ram  sc_h  sc_w  talk_time  \\\n10        182        5   1        248       874  3946     5     2          7   \n\n    three_g  touch_screen  wifi  \n10        0             0     0  ",
      "text/html": "<div>\n<style scoped>\n    .dataframe tbody tr th:only-of-type {\n        vertical-align: middle;\n    }\n\n    .dataframe tbody tr th {\n        vertical-align: top;\n    }\n\n    .dataframe thead th {\n        text-align: right;\n    }\n</style>\n<table border=\"1\" class=\"dataframe\">\n  <thead>\n    <tr style=\"text-align: right;\">\n      <th></th>\n      <th>battery_power</th>\n      <th>blue</th>\n      <th>clock_speed</th>\n      <th>dual_sim</th>\n      <th>fc</th>\n      <th>four_g</th>\n      <th>int_memory</th>\n      <th>m_dep</th>\n      <th>mobile_wt</th>\n      <th>n_cores</th>\n      <th>pc</th>\n      <th>px_height</th>\n      <th>px_width</th>\n      <th>ram</th>\n      <th>sc_h</th>\n      <th>sc_w</th>\n      <th>talk_time</th>\n      <th>three_g</th>\n      <th>touch_screen</th>\n      <th>wifi</th>\n    </tr>\n  </thead>\n  <tbody>\n    <tr>\n      <th>10</th>\n      <td>769</td>\n      <td>1</td>\n      <td>2.9</td>\n      <td>1</td>\n      <td>0</td>\n      <td>0</td>\n      <td>9</td>\n      <td>0.1</td>\n      <td>182</td>\n      <td>5</td>\n      <td>1</td>\n      <td>248</td>\n      <td>874</td>\n      <td>3946</td>\n      <td>5</td>\n      <td>2</td>\n      <td>7</td>\n      <td>0</td>\n      <td>0</td>\n      <td>0</td>\n    </tr>\n  </tbody>\n</table>\n</div>"
     },
     "execution_count": 75,
     "metadata": {},
     "output_type": "execute_result"
    }
   ],
   "source": [
    "data.iloc[[10]].drop(columns=[\"price_range\"])"
   ],
   "metadata": {
    "collapsed": false,
    "ExecuteTime": {
     "end_time": "2023-10-29T09:50:33.585769700Z",
     "start_time": "2023-10-29T09:50:33.555248300Z"
    }
   },
   "id": "a0b23646faffcef0"
  }
 ],
 "metadata": {
  "kernelspec": {
   "display_name": "Python 3",
   "language": "python",
   "name": "python3"
  },
  "language_info": {
   "codemirror_mode": {
    "name": "ipython",
    "version": 2
   },
   "file_extension": ".py",
   "mimetype": "text/x-python",
   "name": "python",
   "nbconvert_exporter": "python",
   "pygments_lexer": "ipython2",
   "version": "2.7.6"
  }
 },
 "nbformat": 4,
 "nbformat_minor": 5
}
